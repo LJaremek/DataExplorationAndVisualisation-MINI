{
 "cells": [
  {
   "cell_type": "markdown",
   "metadata": {},
   "source": [
    "# A) Generate synthetic data."
   ]
  },
  {
   "cell_type": "code",
   "execution_count": 1,
   "metadata": {},
   "outputs": [],
   "source": [
    "from sklearn.datasets import make_classification\n",
    "import pandas as pd\n",
    "import numpy as np\n"
   ]
  },
  {
   "cell_type": "code",
   "execution_count": 2,
   "metadata": {},
   "outputs": [],
   "source": [
    "def generate_synthetic_data(\n",
    "        n_samples: int = 1000,\n",
    "        n_features: int = 20,\n",
    "        n_informative: int = 5,\n",
    "        n_redundant: int = 5,\n",
    "        n_repeated: int = 2,\n",
    "        n_classes: int = 2,\n",
    "        class_sep: float = 1.0,\n",
    "        flip_y: float = 0.01,\n",
    "        random_state: bool = None\n",
    "        ) -> tuple[pd.DataFrame, pd.Series]:\n",
    "    \"\"\"\n",
    "    Generate a synthetic dataset for classification purposes.\n",
    "\n",
    "    Parameters:\n",
    "    - n_samples: int, number of samples\n",
    "    - n_features: int, total number of features\n",
    "    - n_informative: int, number of informative features\n",
    "    - n_redundant: int, number of redundant features\n",
    "    - n_repeated: int, number of repeated features\n",
    "    - n_classes: int, number of classes\n",
    "    - class_sep: float, the factor to separate the classes\n",
    "    - flip_y: float, fraction of samples whose class are randomly exchanged\n",
    "    - random_state: int or None, random seed for reproducibility\n",
    "\n",
    "    Returns:\n",
    "    - X: pd.DataFrame, generated features\n",
    "    - y: pd.Series, target labels\n",
    "    \"\"\"\n",
    "    X, y = make_classification(\n",
    "        n_samples=n_samples, n_features=n_features,\n",
    "        n_informative=n_informative, n_redundant=n_redundant,\n",
    "        n_repeated=n_repeated, n_classes=n_classes, class_sep=class_sep,\n",
    "        flip_y=flip_y, random_state=random_state\n",
    "        )\n",
    "\n",
    "    feature_names = [f\"Feature_{i+1}\" for i in range(n_features)]\n",
    "    X = pd.DataFrame(X, columns=feature_names)\n",
    "    y = pd.Series(y, name=\"Class\")\n",
    "\n",
    "    return X, y\n"
   ]
  },
  {
   "cell_type": "code",
   "execution_count": 3,
   "metadata": {},
   "outputs": [
    {
     "name": "stdout",
     "output_type": "stream",
     "text": [
      "    Feature_1  Feature_2  Feature_3  Feature_4  Feature_5  Feature_6  \\\n",
      "0    1.136467  -3.565904  -5.881832  -4.981019   3.397632  -0.456054   \n",
      "1    3.497852   0.505860   0.318994  -2.487607  -2.567296   0.898072   \n",
      "2    1.188345  -1.191185  -1.920648  -2.019394  -0.019544   0.092255   \n",
      "3   -3.061106  -1.800870  -1.453351   2.054543  -0.680263  -0.196470   \n",
      "4    0.363907   1.661362   0.738278   0.991955  -1.565568   0.571628   \n",
      "..        ...        ...        ...        ...        ...        ...   \n",
      "95   2.205694   4.004747  -2.290006   0.309235  -1.005379   1.403749   \n",
      "96  -1.705389  -3.458757   3.832305  -0.219499   0.145726   1.180642   \n",
      "97   1.550985   2.597506  -1.967964   0.543125  -0.833942   0.869553   \n",
      "98  -1.525873  -5.229154   2.198548  -1.759578   1.356857   0.951970   \n",
      "99  -0.123182  -2.371162  -1.873602  -1.933487   1.765461   0.491656   \n",
      "\n",
      "    Feature_7  Feature_8  Feature_9  Feature_10  Feature_11  Feature_12  \\\n",
      "0   -1.714942   0.157707   3.397632    1.486971   -0.157971    1.272876   \n",
      "1    1.488020   0.496206  -2.567296    0.004001    1.469124    2.854055   \n",
      "2    0.327909   1.303688  -0.019544    0.275404   -0.235172    2.047727   \n",
      "3   -0.851031   3.130533  -0.680263    0.829960    0.345043    4.792842   \n",
      "4   -0.481592  -0.192333  -1.565568    0.845186   -0.202504    1.339072   \n",
      "..        ...        ...        ...         ...         ...         ...   \n",
      "95  -1.462378   0.962042  -1.005379   -0.392788    0.665500    1.237674   \n",
      "96   1.798925  -2.022743   0.145726   -0.006550   -0.533580   -1.532790   \n",
      "97   0.399082   3.054691  -0.833942   -1.153283   -1.043916    1.035950   \n",
      "98   2.357477  -0.918223   1.356857   -0.153376   -2.066000   -1.523085   \n",
      "99  -0.001527   0.304449   1.765461    1.073237   -0.967888   -0.162553   \n",
      "\n",
      "    Feature_13  Feature_14  Feature_15  Feature_16  Feature_17  Feature_18  \\\n",
      "0    -0.743168   -1.520720    0.275416    3.333398   -0.084120   -1.714942   \n",
      "1    -0.372387   -1.399626    0.770509    3.323331    0.655868    1.488020   \n",
      "2    -1.613915   -0.500299    0.396693    1.906817   -1.032570    0.327909   \n",
      "3    -0.504185    0.189106    2.585363    0.313239    0.966886   -0.851031   \n",
      "4    -0.743104   -0.472935    1.429646    0.239844   -0.102540   -0.481592   \n",
      "..         ...         ...         ...         ...         ...         ...   \n",
      "95   -1.458857   -0.400729    1.818590   -0.598235   -0.247994   -1.462378   \n",
      "96   -0.242860   -1.264674   -1.824130    1.006560    0.902730    1.798925   \n",
      "97    0.512711   -0.876418    0.305355   -1.508788    0.162661    0.399082   \n",
      "98   -0.234174    0.921692   -2.743225    1.479613    0.133957    2.357477   \n",
      "99   -0.180530   -0.612315   -0.768696    0.950561   -0.162516   -0.001527   \n",
      "\n",
      "    Feature_19  Feature_20  \n",
      "0     0.330927   -0.060267  \n",
      "1     0.399968   -1.301411  \n",
      "2     0.858782   -0.357068  \n",
      "3     2.160587   -1.327210  \n",
      "4    -0.886835    0.847620  \n",
      "..         ...         ...  \n",
      "95    0.400330    0.847995  \n",
      "96    0.413411    0.208720  \n",
      "97    1.226555    1.570007  \n",
      "98   -2.024262    0.369787  \n",
      "99    0.177490    0.242436  \n",
      "\n",
      "[100 rows x 20 columns]\n"
     ]
    }
   ],
   "source": [
    "x, y = generate_synthetic_data(100, 20)\n",
    "\n",
    "print(x)\n"
   ]
  },
  {
   "cell_type": "markdown",
   "metadata": {},
   "source": [
    "# B) Evaluate feature selection methods\n",
    "# "
   ]
  },
  {
   "cell_type": "code",
   "execution_count": 4,
   "metadata": {},
   "outputs": [],
   "source": [
    "from sklearn.feature_selection import mutual_info_classif, RFE\n",
    "from sklearn.model_selection import train_test_split\n",
    "from sklearn.linear_model import LogisticRegression\n",
    "from sklearn.ensemble import RandomForestClassifier\n"
   ]
  },
  {
   "cell_type": "code",
   "execution_count": 5,
   "metadata": {},
   "outputs": [],
   "source": [
    "def mutual_information(\n",
    "        X_train: pd.DataFrame,\n",
    "        y_train: pd.DataFrame\n",
    "        ) -> pd.Series:\n",
    "\n",
    "    mi = mutual_info_classif(X_train, y_train)\n",
    "    mi_scores = pd.Series(mi, index=X_train.columns)\n",
    "\n",
    "    return mi_scores.sort_values(ascending=False)\n",
    "\n",
    "\n",
    "def recursive_feature_elimination(\n",
    "        X_train: pd.DataFrame,\n",
    "        y_train: pd.DataFrame,\n",
    "        n_features_to_select: int = 5\n",
    "        ) -> pd.Series:\n",
    "\n",
    "    model = LogisticRegression(solver=\"liblinear\")\n",
    "    rfe = RFE(model, n_features_to_select=n_features_to_select)\n",
    "    rfe.fit(X_train, y_train)\n",
    "    rfe_scores = pd.Series(rfe.ranking_, index=X_train.columns)\n",
    "\n",
    "    return rfe_scores.sort_values()\n",
    "\n",
    "\n",
    "def random_forest_importance(\n",
    "        X_train: pd.DataFrame,\n",
    "        y_train: pd.DataFrame\n",
    "        ) -> pd.Series:\n",
    "\n",
    "    model = RandomForestClassifier(n_estimators=100, random_state=42)\n",
    "    model.fit(X_train, y_train)\n",
    "    rf_scores = pd.Series(model.feature_importances_, index=X_train.columns)\n",
    "\n",
    "    return rf_scores.sort_values(ascending=False)\n",
    "\n",
    "\n",
    "def success_score(\n",
    "        X: pd.DataFrame,\n",
    "        selected_features: pd.Series,\n",
    "        n_relevant: int = 5\n",
    "        ) -> float:\n",
    "\n",
    "    relevant_features = set(range(n_relevant))\n",
    "    selected_features = set(selected_features)\n",
    "\n",
    "    Rs = len(relevant_features & selected_features)\n",
    "    Rt = n_relevant\n",
    "    Is = len(selected_features - relevant_features)\n",
    "    It = len(X.columns) - n_relevant\n",
    "    alpha = min(0.5, Rt / It)\n",
    "    score = (Rs / Rt - alpha * Is / It) * 100\n",
    "\n",
    "    return score\n"
   ]
  },
  {
   "cell_type": "code",
   "execution_count": 6,
   "metadata": {},
   "outputs": [
    {
     "name": "stdout",
     "output_type": "stream",
     "text": [
      "Mutual Information Scores:\n",
      " Feature_11    0.104767\n",
      "Feature_15    0.094279\n",
      "Feature_16    0.094279\n",
      "Feature_9     0.088204\n",
      "Feature_5     0.047105\n",
      "dtype: float64\n",
      "--------------------------------------------------\n",
      "RFE Scores:\n",
      " Feature_8     1\n",
      "Feature_9     1\n",
      "Feature_19    1\n",
      "Feature_13    1\n",
      "Feature_16    1\n",
      "dtype: int32\n",
      "--------------------------------------------------\n",
      "Random Forest Feature Importance Scores:\n",
      " Feature_11    0.126702\n",
      "Feature_16    0.101164\n",
      "Feature_15    0.095291\n",
      "Feature_12    0.085815\n",
      "Feature_9     0.079818\n",
      "dtype: float64\n"
     ]
    }
   ],
   "source": [
    "X, y = generate_synthetic_data(n_samples=1_000, n_features=20)\n",
    "X_train, X_test, y_train, y_test = train_test_split(X, y, test_size=0.3)\n",
    "\n",
    "mi_scores = mutual_information(X_train, y_train)\n",
    "rfe_scores = recursive_feature_elimination(X_train, y_train)\n",
    "rf_scores = random_forest_importance(X_train, y_train)\n",
    "\n",
    "TOP_RECORDS = 5\n",
    "\n",
    "print(\"Mutual Information Scores:\\n\", mi_scores[:TOP_RECORDS])\n",
    "print(\"-\"*50)\n",
    "\n",
    "print(\"RFE Scores:\\n\", rfe_scores[:TOP_RECORDS])\n",
    "print(\"-\"*50)\n",
    "\n",
    "print(\"Random Forest Feature Importance Scores:\\n\", rf_scores[:TOP_RECORDS])\n"
   ]
  },
  {
   "cell_type": "code",
   "execution_count": 7,
   "metadata": {},
   "outputs": [
    {
     "name": "stdout",
     "output_type": "stream",
     "text": [
      "\n",
      "Top 5 features selected by Mutual Information: Index(['Feature_11', 'Feature_15', 'Feature_16', 'Feature_9', 'Feature_5'], dtype='object')\n",
      "Top 5 features selected by RFE: Index(['Feature_8', 'Feature_9', 'Feature_19', 'Feature_13', 'Feature_16'], dtype='object')\n",
      "Top 5 features selected by Random Forest: Index(['Feature_11', 'Feature_16', 'Feature_15', 'Feature_12', 'Feature_9'], dtype='object')\n"
     ]
    }
   ],
   "source": [
    "top_features_mi = mi_scores.head(TOP_RECORDS).index\n",
    "top_features_rfe = rfe_scores.head(TOP_RECORDS).index\n",
    "top_features_rf = rf_scores.head(TOP_RECORDS).index\n",
    "\n",
    "print(\"\\nTop 5 features selected by Mutual Information:\", top_features_mi)\n",
    "print(\"Top 5 features selected by RFE:\", top_features_rfe)\n",
    "print(\"Top 5 features selected by Random Forest:\", top_features_rf)\n"
   ]
  },
  {
   "cell_type": "markdown",
   "metadata": {},
   "source": [
    "**Mutual Information Scores** - Mutual information tends to identify features that have a high dependency with the target variable.\n",
    "\n",
    "**RFE (Recursive Feature Elimination)** - RFE, using logistic regression, iteratively removes the least important features and ranks them based on their importance in the model.\n",
    "\n",
    "**Random Forest Feature Importance** - Random Forest evaluates the importance of features based on their contribution to reducing impurity in the decision trees.\n",
    "\n",
    "These results suggest that Feature_17, Feature_14, and Feature_1 are consistently important across different selection techniques, and thus should be considered as key features for further analysis or model building."
   ]
  },
  {
   "cell_type": "code",
   "execution_count": 8,
   "metadata": {},
   "outputs": [
    {
     "name": "stdout",
     "output_type": "stream",
     "text": [
      "Success Score for Mutual Information: 11.111111111111112\n",
      "Success Score for RFE: -11.11111111111111\n",
      "Success Score for Random Forest: -11.11111111111111\n"
     ]
    }
   ],
   "source": [
    "score_mi = success_score(\n",
    "    X, [int(f.split(\"_\")[1]) - 1 for f in top_features_mi]\n",
    "    )\n",
    "\n",
    "score_rfe = success_score(\n",
    "    X,\n",
    "    [int(f.split(\"_\")[1]) - 1 for f in top_features_rfe]\n",
    "    )\n",
    "\n",
    "score_rf = success_score(\n",
    "    X,\n",
    "    [int(f.split(\"_\")[1]) - 1 for f in top_features_rf]\n",
    "    )\n",
    "\n",
    "print(\"Success Score for Mutual Information:\", score_mi)\n",
    "print(\"Success Score for RFE:\", score_rfe)\n",
    "print(\"Success Score for Random Forest:\", score_rf)\n"
   ]
  },
  {
   "cell_type": "markdown",
   "metadata": {},
   "source": [
    "1. Best Performer: </br>\n",
    "Mutual Information outperformed both RFE and Random Forest in terms of success score, making it the most effective method for this specific task.\n",
    "\n",
    "2. Improvement Needed: </br>\n",
    "Both RFE and Random Forest showed room for improvement. They might benefit from parameter tuning or might be more effective in different data scenarios.\n",
    "\n",
    "3. Overall Insight: </br>\n",
    "The success score metric effectively highlights the performance differences between the feature selection methods. Mutual Information is particularly effective in this case, suggesting its utility in scenarios with similar synthetic data characteristics.\n",
    "\n",
    "These results emphasize the importance of evaluating multiple feature selection methods and choosing the one that best fits the specific characteristics of the dataset at hand."
   ]
  },
  {
   "cell_type": "markdown",
   "metadata": {},
   "source": [
    "# Consider repeating steps (A) and (B) few times"
   ]
  },
  {
   "cell_type": "code",
   "execution_count": 9,
   "metadata": {},
   "outputs": [],
   "source": [
    "import matplotlib.pyplot as plt\n"
   ]
  },
  {
   "cell_type": "code",
   "execution_count": 10,
   "metadata": {},
   "outputs": [
    {
     "name": "stdout",
     "output_type": "stream",
     "text": [
      "AVG Success Score for Mutual Information: 13.333333333333334\n",
      "AVG Success Score for RFE: 13.333333333333337\n",
      "AVG Success Score for Random Forest: 13.333333333333337\n"
     ]
    }
   ],
   "source": [
    "n_iterations = 10\n",
    "scores_mi, scores_rfe, scores_rf = [], [], []\n",
    "\n",
    "for _ in range(n_iterations):\n",
    "    X, y = generate_synthetic_data(n_samples=1000, n_features=20)\n",
    "    X_train, X_test, y_train, y_test = train_test_split(X, y, test_size=0.3)\n",
    "    \n",
    "    mi_scores = mutual_information(X_train, y_train)\n",
    "    rfe_scores = recursive_feature_elimination(X_train, y_train)\n",
    "    rf_scores = random_forest_importance(X_train, y_train)\n",
    "    \n",
    "    top_features_mi = mi_scores.head(5).index\n",
    "    top_features_rfe = rfe_scores.head(5).index\n",
    "    top_features_rf = rf_scores.head(5).index\n",
    "    \n",
    "    score_mi = success_score(\n",
    "        X, [int(f.split(\"_\")[1]) - 1 for f in top_features_mi]\n",
    "        )\n",
    "\n",
    "    score_rfe = success_score(\n",
    "        X, [int(f.split(\"_\")[1]) - 1 for f in top_features_rfe]\n",
    "        )\n",
    "\n",
    "    score_rf = success_score(\n",
    "        X, [int(f.split(\"_\")[1]) - 1 for f in top_features_rf]\n",
    "        )\n",
    "\n",
    "    scores_mi.append(score_mi)\n",
    "    scores_rfe.append(score_rfe)\n",
    "    scores_rf.append(score_rf)\n",
    "\n",
    "print(\"AVG Success Score for Mutual Information:\", np.mean(scores_mi))\n",
    "print(\"AVG Success Score for RFE:\", np.mean(scores_rfe))\n",
    "print(\"AVG Success Score for Random Forest:\", np.mean(scores_rf))\n"
   ]
  },
  {
   "cell_type": "code",
   "execution_count": 11,
   "metadata": {},
   "outputs": [
    {
     "data": {
      "image/png": "[encoded data removed]",
      "text/plain": [
       "<Figure size 640x480 with 1 Axes>"
      ]
     },
     "metadata": {},
     "output_type": "display_data"
    }
   ],
   "source": [
    "data = [scores_mi, scores_rfe, scores_rf]\n",
    "labels = [\"Mutual Information\", \"RFE\", \"Random Forest\"]\n",
    "\n",
    "plt.boxplot(data, labels=labels)\n",
    "plt.title(\"Success Score Distribution for Feature Selection Methods\")\n",
    "plt.ylabel(\"Success Score\")\n",
    "plt.show()\n"
   ]
  },
  {
   "cell_type": "markdown",
   "metadata": {},
   "source": [
    "The differences in results across multiple iterations of the experiment are primarily due to the inherent randomness in synthetic data generation and the varying sensitivities of feature selection methods to data characteristics. Each method\"s performance fluctuates with different datasets, influenced by noise and redundant features. Repeating experiments multiple times ensures a more reliable evaluation by averaging out random variability and highlighting consistent patterns."
   ]
  },
  {
   "cell_type": "markdown",
   "metadata": {},
   "source": [
    "# C) Investigate a little bit more"
   ]
  },
  {
   "cell_type": "code",
   "execution_count": 12,
   "metadata": {},
   "outputs": [],
   "source": [
    "from sklearn.metrics import accuracy_score\n",
    "from sklearn.decomposition import PCA\n",
    "from sklearn.svm import SVC\n"
   ]
  },
  {
   "cell_type": "code",
   "execution_count": 13,
   "metadata": {},
   "outputs": [],
   "source": [
    "def evaluate_svm(\n",
    "        X_train: pd.DataFrame,\n",
    "        X_test: pd.DataFrame,\n",
    "        y_train: pd.DataFrame,\n",
    "        y_test: pd.DataFrame\n",
    "        ) -> float:\n",
    "\n",
    "    clf = SVC(kernel=\"linear\")\n",
    "    clf.fit(X_train, y_train)\n",
    "    y_pred = clf.predict(X_test)\n",
    "\n",
    "    return accuracy_score(y_test, y_pred)\n"
   ]
  },
  {
   "cell_type": "code",
   "execution_count": 14,
   "metadata": {},
   "outputs": [
    {
     "name": "stdout",
     "output_type": "stream",
     "text": [
      "Accuracy of the SVM classifier:\n",
      "* All features: 0.86\n",
      "* Features selected by Mutual Information: 0.84\n",
      "* Features selected by RFE: 0.8533333333333334\n",
      "* Features selected by Random Forest: 0.86\n",
      "* Only important features: 0.84\n",
      "* PCA projection: 0.8366666666666667\n"
     ]
    }
   ],
   "source": [
    "accuracy_all_features = evaluate_svm(X_train, X_test, y_train, y_test)\n",
    "\n",
    "accuracy_mi = evaluate_svm(\n",
    "    X_train[top_features_mi], X_test[top_features_mi], y_train, y_test\n",
    "    )\n",
    "\n",
    "accuracy_rfe = evaluate_svm(\n",
    "    X_train[top_features_rfe], X_test[top_features_rfe], y_train, y_test\n",
    "    )\n",
    "\n",
    "accuracy_rf = evaluate_svm(\n",
    "    X_train[top_features_rf], X_test[top_features_rf], y_train, y_test\n",
    "    )\n",
    "\n",
    "\n",
    "important_features = X.columns[:5]\n",
    "accuracy_important_features = evaluate_svm(\n",
    "    X_train[important_features], X_test[important_features], y_train, y_test\n",
    "    )\n",
    "\n",
    "pca = PCA(n_components=5)\n",
    "X_train_pca = pca.fit_transform(X_train)\n",
    "X_test_pca = pca.transform(X_test)\n",
    "accuracy_pca = evaluate_svm(X_train_pca, X_test_pca, y_train, y_test)\n",
    "\n",
    "print(\"Accuracy of the SVM classifier:\")\n",
    "print(\"* All features:\", accuracy_all_features)\n",
    "print(\"* Features selected by Mutual Information:\", accuracy_mi)\n",
    "print(\"* Features selected by RFE:\", accuracy_rfe)\n",
    "print(\"* Features selected by Random Forest:\", accuracy_rf)\n",
    "print(\"* Only important features:\", accuracy_important_features)\n",
    "print(\"* PCA projection:\", accuracy_pca)\n"
   ]
  },
  {
   "cell_type": "markdown",
   "metadata": {},
   "source": [
    "The SVM classifier\"s accuracy is highest with only important features and PCA projection, showing significant improvement over using all features, with Mutual Information, RFE, and Random Forest feature selection also enhancing performance by effectively identifying relevant features."
   ]
  }
 ],
 "metadata": {
  "kernelspec": {
   "display_name": "Python 3",
   "language": "python",
   "name": "python3"
  },
  "language_info": {
   "codemirror_mode": {
    "name": "ipython",
    "version": 3
   },
   "file_extension": ".py",
   "mimetype": "text/x-python",
   "name": "python",
   "nbconvert_exporter": "python",
   "pygments_lexer": "ipython3",
   "version": "3.12.3"
  }
 },
 "nbformat": 4,
 "nbformat_minor": 2
}
