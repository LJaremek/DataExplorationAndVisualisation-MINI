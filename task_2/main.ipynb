{
 "cells": [
  {
   "cell_type": "markdown",
   "metadata": {},
   "source": [
    "# 1. Imports"
   ]
  },
  {
   "cell_type": "code",
   "execution_count": 1150,
   "metadata": {},
   "outputs": [],
   "source": [
    "from sklearn.ensemble import RandomForestClassifier, RandomForestRegressor\n",
    "from sklearn.metrics import mean_squared_error\n",
    "from sklearn.metrics import accuracy_score\n",
    "import matplotlib.pyplot as plt\n",
    "import pandas as pd\n",
    "import numpy as np\n"
   ]
  },
  {
   "cell_type": "code",
   "execution_count": 1151,
   "metadata": {},
   "outputs": [],
   "source": [
    "SEED = 547586\n",
    "\n",
    "np.random.seed(SEED)\n"
   ]
  },
  {
   "cell_type": "markdown",
   "metadata": {},
   "source": [
    "# 2. Breast Cancer Wisconsin (Diagnostic) dataset\n"
   ]
  },
  {
   "cell_type": "code",
   "execution_count": 1152,
   "metadata": {},
   "outputs": [
    {
     "data": {
      "text/html": [
       "<div>\n",
       "<style scoped>\n",
       "    .dataframe tbody tr th:only-of-type {\n",
       "        vertical-align: middle;\n",
       "    }\n",
       "\n",
       "    .dataframe tbody tr th {\n",
       "        vertical-align: top;\n",
       "    }\n",
       "\n",
       "    .dataframe thead th {\n",
       "        text-align: right;\n",
       "    }\n",
       "</style>\n",
       "<table border=\"1\" class=\"dataframe\">\n",
       "  <thead>\n",
       "    <tr style=\"text-align: right;\">\n",
       "      <th></th>\n",
       "      <th>0</th>\n",
       "      <th>1</th>\n",
       "      <th>2</th>\n",
       "      <th>3</th>\n",
       "      <th>4</th>\n",
       "      <th>5</th>\n",
       "      <th>6</th>\n",
       "      <th>7</th>\n",
       "      <th>8</th>\n",
       "      <th>9</th>\n",
       "      <th>...</th>\n",
       "      <th>22</th>\n",
       "      <th>23</th>\n",
       "      <th>24</th>\n",
       "      <th>25</th>\n",
       "      <th>26</th>\n",
       "      <th>27</th>\n",
       "      <th>28</th>\n",
       "      <th>29</th>\n",
       "      <th>30</th>\n",
       "      <th>31</th>\n",
       "    </tr>\n",
       "  </thead>\n",
       "  <tbody>\n",
       "    <tr>\n",
       "      <th>0</th>\n",
       "      <td>8510653</td>\n",
       "      <td>B</td>\n",
       "      <td>13.08</td>\n",
       "      <td>15.71</td>\n",
       "      <td>85.63</td>\n",
       "      <td>520.0</td>\n",
       "      <td>0.10750</td>\n",
       "      <td>0.12700</td>\n",
       "      <td>0.04568</td>\n",
       "      <td>0.03110</td>\n",
       "      <td>...</td>\n",
       "      <td>14.50</td>\n",
       "      <td>20.49</td>\n",
       "      <td>96.09</td>\n",
       "      <td>630.5</td>\n",
       "      <td>0.13120</td>\n",
       "      <td>0.27760</td>\n",
       "      <td>0.18900</td>\n",
       "      <td>0.07283</td>\n",
       "      <td>0.3184</td>\n",
       "      <td>0.08183</td>\n",
       "    </tr>\n",
       "    <tr>\n",
       "      <th>1</th>\n",
       "      <td>8811842</td>\n",
       "      <td>M</td>\n",
       "      <td>19.80</td>\n",
       "      <td>21.56</td>\n",
       "      <td>129.70</td>\n",
       "      <td>1230.0</td>\n",
       "      <td>0.09383</td>\n",
       "      <td>0.13060</td>\n",
       "      <td>0.12720</td>\n",
       "      <td>0.08691</td>\n",
       "      <td>...</td>\n",
       "      <td>25.73</td>\n",
       "      <td>28.64</td>\n",
       "      <td>170.30</td>\n",
       "      <td>2009.0</td>\n",
       "      <td>0.13530</td>\n",
       "      <td>0.32350</td>\n",
       "      <td>0.36170</td>\n",
       "      <td>0.18200</td>\n",
       "      <td>0.3070</td>\n",
       "      <td>0.08255</td>\n",
       "    </tr>\n",
       "    <tr>\n",
       "      <th>2</th>\n",
       "      <td>91930402</td>\n",
       "      <td>M</td>\n",
       "      <td>20.47</td>\n",
       "      <td>20.67</td>\n",
       "      <td>134.70</td>\n",
       "      <td>1299.0</td>\n",
       "      <td>0.09156</td>\n",
       "      <td>0.13130</td>\n",
       "      <td>0.15230</td>\n",
       "      <td>0.10150</td>\n",
       "      <td>...</td>\n",
       "      <td>23.23</td>\n",
       "      <td>27.15</td>\n",
       "      <td>152.00</td>\n",
       "      <td>1645.0</td>\n",
       "      <td>0.10970</td>\n",
       "      <td>0.25340</td>\n",
       "      <td>0.30920</td>\n",
       "      <td>0.16130</td>\n",
       "      <td>0.3220</td>\n",
       "      <td>0.06386</td>\n",
       "    </tr>\n",
       "    <tr>\n",
       "      <th>3</th>\n",
       "      <td>9013594</td>\n",
       "      <td>B</td>\n",
       "      <td>13.66</td>\n",
       "      <td>15.15</td>\n",
       "      <td>88.27</td>\n",
       "      <td>580.6</td>\n",
       "      <td>0.08268</td>\n",
       "      <td>0.07548</td>\n",
       "      <td>0.04249</td>\n",
       "      <td>0.02471</td>\n",
       "      <td>...</td>\n",
       "      <td>14.54</td>\n",
       "      <td>19.64</td>\n",
       "      <td>97.96</td>\n",
       "      <td>657.0</td>\n",
       "      <td>0.12750</td>\n",
       "      <td>0.31040</td>\n",
       "      <td>0.25690</td>\n",
       "      <td>0.10540</td>\n",
       "      <td>0.3387</td>\n",
       "      <td>0.09638</td>\n",
       "    </tr>\n",
       "    <tr>\n",
       "      <th>4</th>\n",
       "      <td>889719</td>\n",
       "      <td>M</td>\n",
       "      <td>17.19</td>\n",
       "      <td>22.07</td>\n",
       "      <td>111.60</td>\n",
       "      <td>928.3</td>\n",
       "      <td>0.09726</td>\n",
       "      <td>0.08995</td>\n",
       "      <td>0.09061</td>\n",
       "      <td>0.06527</td>\n",
       "      <td>...</td>\n",
       "      <td>21.58</td>\n",
       "      <td>29.33</td>\n",
       "      <td>140.50</td>\n",
       "      <td>1436.0</td>\n",
       "      <td>0.15580</td>\n",
       "      <td>0.25670</td>\n",
       "      <td>0.38890</td>\n",
       "      <td>0.19840</td>\n",
       "      <td>0.3216</td>\n",
       "      <td>0.07570</td>\n",
       "    </tr>\n",
       "    <tr>\n",
       "      <th>...</th>\n",
       "      <td>...</td>\n",
       "      <td>...</td>\n",
       "      <td>...</td>\n",
       "      <td>...</td>\n",
       "      <td>...</td>\n",
       "      <td>...</td>\n",
       "      <td>...</td>\n",
       "      <td>...</td>\n",
       "      <td>...</td>\n",
       "      <td>...</td>\n",
       "      <td>...</td>\n",
       "      <td>...</td>\n",
       "      <td>...</td>\n",
       "      <td>...</td>\n",
       "      <td>...</td>\n",
       "      <td>...</td>\n",
       "      <td>...</td>\n",
       "      <td>...</td>\n",
       "      <td>...</td>\n",
       "      <td>...</td>\n",
       "      <td>...</td>\n",
       "    </tr>\n",
       "    <tr>\n",
       "      <th>564</th>\n",
       "      <td>915452</td>\n",
       "      <td>B</td>\n",
       "      <td>16.30</td>\n",
       "      <td>15.70</td>\n",
       "      <td>104.70</td>\n",
       "      <td>819.8</td>\n",
       "      <td>0.09427</td>\n",
       "      <td>0.06712</td>\n",
       "      <td>0.05526</td>\n",
       "      <td>0.04563</td>\n",
       "      <td>...</td>\n",
       "      <td>17.32</td>\n",
       "      <td>17.76</td>\n",
       "      <td>109.80</td>\n",
       "      <td>928.2</td>\n",
       "      <td>0.13540</td>\n",
       "      <td>0.13610</td>\n",
       "      <td>0.19470</td>\n",
       "      <td>0.13570</td>\n",
       "      <td>0.2300</td>\n",
       "      <td>0.07230</td>\n",
       "    </tr>\n",
       "    <tr>\n",
       "      <th>565</th>\n",
       "      <td>894855</td>\n",
       "      <td>B</td>\n",
       "      <td>12.86</td>\n",
       "      <td>13.32</td>\n",
       "      <td>82.82</td>\n",
       "      <td>504.8</td>\n",
       "      <td>0.11340</td>\n",
       "      <td>0.08834</td>\n",
       "      <td>0.03800</td>\n",
       "      <td>0.03400</td>\n",
       "      <td>...</td>\n",
       "      <td>14.04</td>\n",
       "      <td>21.08</td>\n",
       "      <td>92.80</td>\n",
       "      <td>599.5</td>\n",
       "      <td>0.15470</td>\n",
       "      <td>0.22310</td>\n",
       "      <td>0.17910</td>\n",
       "      <td>0.11550</td>\n",
       "      <td>0.2382</td>\n",
       "      <td>0.08553</td>\n",
       "    </tr>\n",
       "    <tr>\n",
       "      <th>566</th>\n",
       "      <td>886226</td>\n",
       "      <td>M</td>\n",
       "      <td>19.45</td>\n",
       "      <td>19.33</td>\n",
       "      <td>126.50</td>\n",
       "      <td>1169.0</td>\n",
       "      <td>0.10350</td>\n",
       "      <td>0.11880</td>\n",
       "      <td>0.13790</td>\n",
       "      <td>0.08591</td>\n",
       "      <td>...</td>\n",
       "      <td>25.70</td>\n",
       "      <td>24.57</td>\n",
       "      <td>163.10</td>\n",
       "      <td>1972.0</td>\n",
       "      <td>0.14970</td>\n",
       "      <td>0.31610</td>\n",
       "      <td>0.43170</td>\n",
       "      <td>0.19990</td>\n",
       "      <td>0.3379</td>\n",
       "      <td>0.08950</td>\n",
       "    </tr>\n",
       "    <tr>\n",
       "      <th>567</th>\n",
       "      <td>875093</td>\n",
       "      <td>B</td>\n",
       "      <td>12.77</td>\n",
       "      <td>21.41</td>\n",
       "      <td>82.02</td>\n",
       "      <td>507.4</td>\n",
       "      <td>0.08749</td>\n",
       "      <td>0.06601</td>\n",
       "      <td>0.03112</td>\n",
       "      <td>0.02864</td>\n",
       "      <td>...</td>\n",
       "      <td>13.75</td>\n",
       "      <td>23.50</td>\n",
       "      <td>89.04</td>\n",
       "      <td>579.5</td>\n",
       "      <td>0.09388</td>\n",
       "      <td>0.08978</td>\n",
       "      <td>0.05186</td>\n",
       "      <td>0.04773</td>\n",
       "      <td>0.2179</td>\n",
       "      <td>0.06871</td>\n",
       "    </tr>\n",
       "    <tr>\n",
       "      <th>568</th>\n",
       "      <td>91485</td>\n",
       "      <td>M</td>\n",
       "      <td>20.59</td>\n",
       "      <td>21.24</td>\n",
       "      <td>137.80</td>\n",
       "      <td>1320.0</td>\n",
       "      <td>0.10850</td>\n",
       "      <td>0.16440</td>\n",
       "      <td>0.21880</td>\n",
       "      <td>0.11210</td>\n",
       "      <td>...</td>\n",
       "      <td>23.86</td>\n",
       "      <td>30.76</td>\n",
       "      <td>163.20</td>\n",
       "      <td>1760.0</td>\n",
       "      <td>0.14640</td>\n",
       "      <td>0.35970</td>\n",
       "      <td>0.51790</td>\n",
       "      <td>0.21130</td>\n",
       "      <td>0.2480</td>\n",
       "      <td>0.08999</td>\n",
       "    </tr>\n",
       "  </tbody>\n",
       "</table>\n",
       "<p>569 rows × 32 columns</p>\n",
       "</div>"
      ],
      "text/plain": [
       "           0  1      2      3       4       5        6        7        8   \\\n",
       "0     8510653  B  13.08  15.71   85.63   520.0  0.10750  0.12700  0.04568   \n",
       "1     8811842  M  19.80  21.56  129.70  1230.0  0.09383  0.13060  0.12720   \n",
       "2    91930402  M  20.47  20.67  134.70  1299.0  0.09156  0.13130  0.15230   \n",
       "3     9013594  B  13.66  15.15   88.27   580.6  0.08268  0.07548  0.04249   \n",
       "4      889719  M  17.19  22.07  111.60   928.3  0.09726  0.08995  0.09061   \n",
       "..        ... ..    ...    ...     ...     ...      ...      ...      ...   \n",
       "564    915452  B  16.30  15.70  104.70   819.8  0.09427  0.06712  0.05526   \n",
       "565    894855  B  12.86  13.32   82.82   504.8  0.11340  0.08834  0.03800   \n",
       "566    886226  M  19.45  19.33  126.50  1169.0  0.10350  0.11880  0.13790   \n",
       "567    875093  B  12.77  21.41   82.02   507.4  0.08749  0.06601  0.03112   \n",
       "568     91485  M  20.59  21.24  137.80  1320.0  0.10850  0.16440  0.21880   \n",
       "\n",
       "          9   ...     22     23      24      25       26       27       28  \\\n",
       "0    0.03110  ...  14.50  20.49   96.09   630.5  0.13120  0.27760  0.18900   \n",
       "1    0.08691  ...  25.73  28.64  170.30  2009.0  0.13530  0.32350  0.36170   \n",
       "2    0.10150  ...  23.23  27.15  152.00  1645.0  0.10970  0.25340  0.30920   \n",
       "3    0.02471  ...  14.54  19.64   97.96   657.0  0.12750  0.31040  0.25690   \n",
       "4    0.06527  ...  21.58  29.33  140.50  1436.0  0.15580  0.25670  0.38890   \n",
       "..       ...  ...    ...    ...     ...     ...      ...      ...      ...   \n",
       "564  0.04563  ...  17.32  17.76  109.80   928.2  0.13540  0.13610  0.19470   \n",
       "565  0.03400  ...  14.04  21.08   92.80   599.5  0.15470  0.22310  0.17910   \n",
       "566  0.08591  ...  25.70  24.57  163.10  1972.0  0.14970  0.31610  0.43170   \n",
       "567  0.02864  ...  13.75  23.50   89.04   579.5  0.09388  0.08978  0.05186   \n",
       "568  0.11210  ...  23.86  30.76  163.20  1760.0  0.14640  0.35970  0.51790   \n",
       "\n",
       "          29      30       31  \n",
       "0    0.07283  0.3184  0.08183  \n",
       "1    0.18200  0.3070  0.08255  \n",
       "2    0.16130  0.3220  0.06386  \n",
       "3    0.10540  0.3387  0.09638  \n",
       "4    0.19840  0.3216  0.07570  \n",
       "..       ...     ...      ...  \n",
       "564  0.13570  0.2300  0.07230  \n",
       "565  0.11550  0.2382  0.08553  \n",
       "566  0.19990  0.3379  0.08950  \n",
       "567  0.04773  0.2179  0.06871  \n",
       "568  0.21130  0.2480  0.08999  \n",
       "\n",
       "[569 rows x 32 columns]"
      ]
     },
     "execution_count": 1152,
     "metadata": {},
     "output_type": "execute_result"
    }
   ],
   "source": [
    "df = pd.read_csv(\"data/wdbc.data\", sep=\",\", header=None)\n",
    "df = df.sample(frac=1).reset_index(drop=True)\n",
    "df\n"
   ]
  },
  {
   "cell_type": "code",
   "execution_count": 1153,
   "metadata": {},
   "outputs": [
    {
     "data": {
      "text/plain": [
       "array(['B', 'M'], dtype=object)"
      ]
     },
     "execution_count": 1153,
     "metadata": {},
     "output_type": "execute_result"
    }
   ],
   "source": [
    "df[1].unique()  # target\n"
   ]
  },
  {
   "cell_type": "code",
   "execution_count": 1154,
   "metadata": {},
   "outputs": [
    {
     "name": "stdout",
     "output_type": "stream",
     "text": [
      "(426, 32)\n"
     ]
    }
   ],
   "source": [
    "df_len = df.shape[0]\n",
    "train_size = int(df_len*0.75)\n",
    "\n",
    "df_train = df.iloc[:train_size, :]\n",
    "df_test = df.iloc[train_size:, :]\n",
    "\n",
    "print(df_train.shape)\n"
   ]
  },
  {
   "cell_type": "markdown",
   "metadata": {},
   "source": [
    "From now, we will changing only df_train without df_test because we want to check how models accuracy will change.\n"
   ]
  },
  {
   "cell_type": "code",
   "execution_count": 1155,
   "metadata": {},
   "outputs": [],
   "source": [
    "x_train = df_train.drop(1, axis=1)\n",
    "y_train = df_train[1]\n",
    "\n",
    "x_test = df_test.drop(1, axis=1)\n",
    "y_test = df_test[1]\n"
   ]
  },
  {
   "cell_type": "markdown",
   "metadata": {},
   "source": [
    "### 2.1. Test on Random Forest Classifier without missing values"
   ]
  },
  {
   "cell_type": "code",
   "execution_count": 1156,
   "metadata": {},
   "outputs": [
    {
     "name": "stdout",
     "output_type": "stream",
     "text": [
      "RandomForestClassifier acc: 0.958041958041958\n"
     ]
    }
   ],
   "source": [
    "model = RandomForestClassifier()\n",
    "model.fit(x_train, y_train)\n",
    "\n",
    "y_pred = model.predict(x_test)\n",
    "\n",
    "acc = accuracy_score(y_test, y_pred)\n",
    "print(\"RandomForestClassifier acc:\", acc)\n"
   ]
  },
  {
   "cell_type": "markdown",
   "metadata": {},
   "source": [
    "### 2.2. Test on Random Forest Classifier with missing values (1%)\n"
   ]
  },
  {
   "cell_type": "code",
   "execution_count": 1157,
   "metadata": {},
   "outputs": [
    {
     "name": "stdout",
     "output_type": "stream",
     "text": [
      "(317, 32)\n"
     ]
    }
   ],
   "source": [
    "df_train_1p = df_train.copy()\n",
    "\n",
    "for col in df_train_1p.columns:\n",
    "    df_train_1p.loc[df_train_1p.sample(frac=0.01).index, col] = np.nan\n",
    "\n",
    "df_train_1p = df_train_1p.dropna()\n",
    "print(df_train_1p.shape)\n",
    "\n",
    "x_train_1p = df_train_1p.drop(1, axis=1)\n",
    "y_train_1p = df_train_1p[1]\n"
   ]
  },
  {
   "cell_type": "code",
   "execution_count": 1158,
   "metadata": {},
   "outputs": [
    {
     "name": "stdout",
     "output_type": "stream",
     "text": [
      "RandomForestClassifier acc: (1%) 0.9370629370629371\n"
     ]
    }
   ],
   "source": [
    "model = RandomForestClassifier()\n",
    "model.fit(x_train_1p, y_train_1p)\n",
    "\n",
    "y_pred = model.predict(x_test)\n",
    "\n",
    "acc_1p = accuracy_score(y_test, y_pred)\n",
    "print(\"RandomForestClassifier acc: (1%)\", acc_1p)\n"
   ]
  },
  {
   "cell_type": "markdown",
   "metadata": {},
   "source": [
    "### 2.3. Test on Random Forest Classifier with missing values (5%)\n"
   ]
  },
  {
   "cell_type": "code",
   "execution_count": 1159,
   "metadata": {},
   "outputs": [
    {
     "name": "stdout",
     "output_type": "stream",
     "text": [
      "(81, 32)\n"
     ]
    }
   ],
   "source": [
    "df_train_5p = df_train.copy()\n",
    "\n",
    "for col in df_train_5p.columns:\n",
    "    df_train_5p.loc[df_train_5p.sample(frac=0.05).index, col] = np.nan\n",
    "\n",
    "df_train_5p = df_train_5p.dropna()\n",
    "print(df_train_5p.shape)\n",
    "\n",
    "x_train_5p = df_train_5p.drop(1, axis=1)\n",
    "y_train_5p = df_train_5p[1]\n"
   ]
  },
  {
   "cell_type": "code",
   "execution_count": 1160,
   "metadata": {},
   "outputs": [
    {
     "name": "stdout",
     "output_type": "stream",
     "text": [
      "RandomForestClassifier acc: (5%) 0.9230769230769231\n"
     ]
    }
   ],
   "source": [
    "model = RandomForestClassifier()\n",
    "model.fit(x_train_5p, y_train_5p)\n",
    "\n",
    "y_pred = model.predict(x_test)\n",
    "\n",
    "acc_5p = accuracy_score(y_test, y_pred)\n",
    "print(\"RandomForestClassifier acc: (5%)\", acc_5p)\n"
   ]
  },
  {
   "cell_type": "markdown",
   "metadata": {},
   "source": [
    "### 2.4. Test on Random Forest Classifier with missing values (10%)\n"
   ]
  },
  {
   "cell_type": "code",
   "execution_count": 1161,
   "metadata": {},
   "outputs": [
    {
     "name": "stdout",
     "output_type": "stream",
     "text": [
      "(14, 32)\n"
     ]
    }
   ],
   "source": [
    "df_train_10p = df_train.copy()\n",
    "\n",
    "for col in df_train_10p.columns:\n",
    "    df_train_10p.loc[df_train_10p.sample(frac=0.10).index, col] = np.nan\n",
    "\n",
    "df_train_10p = df_train_10p.dropna()\n",
    "print(df_train_10p.shape)\n",
    "\n",
    "x_train_10p = df_train_10p.drop(1, axis=1)\n",
    "y_train_10p = df_train_10p[1]\n"
   ]
  },
  {
   "cell_type": "code",
   "execution_count": 1162,
   "metadata": {},
   "outputs": [
    {
     "name": "stdout",
     "output_type": "stream",
     "text": [
      "RandomForestClassifier acc: (10%) 0.9020979020979021\n"
     ]
    }
   ],
   "source": [
    "model = RandomForestClassifier()\n",
    "model.fit(x_train_10p, y_train_10p)\n",
    "\n",
    "y_pred = model.predict(x_test)\n",
    "\n",
    "acc_10p = accuracy_score(y_test, y_pred)\n",
    "print(\"RandomForestClassifier acc: (10%)\", acc_10p)\n"
   ]
  },
  {
   "cell_type": "markdown",
   "metadata": {},
   "source": [
    "### Summary of deleting records with missing values"
   ]
  },
  {
   "cell_type": "code",
   "execution_count": 1163,
   "metadata": {},
   "outputs": [
    {
     "data": {
      "image/png": "[encoded data removed]",
      "text/plain": [
       "<Figure size 640x480 with 1 Axes>"
      ]
     },
     "metadata": {},
     "output_type": "display_data"
    }
   ],
   "source": [
    "acc_droped = [acc, acc_1p, acc_5p, acc_10p]\n",
    "x = [\"all values\", \"1% missing\", \"5% missing\", \"10% missing\"]\n",
    "\n",
    "plt.plot(x, acc_droped, marker=\"o\", label=\"drop missing values\")\n",
    "\n",
    "plt.title(\"Accuracy dependency on missing values\")\n",
    "plt.xlabel(\"Missing values [%]\")\n",
    "plt.ylabel(\"Accuracy\")\n",
    "plt.legend()\n",
    "\n",
    "plt.show()\n"
   ]
  },
  {
   "cell_type": "markdown",
   "metadata": {},
   "source": [
    "The graph tells us that the higher the percentage of missing data, the worse the model performs.\n",
    "\n",
    "This is due to the fact that we have fewer and fewer records to train the model."
   ]
  },
  {
   "cell_type": "markdown",
   "metadata": {},
   "source": [
    "### 2.5. Test on Random Forest Classifier with missing values (1%) - replace with mean value\n"
   ]
  },
  {
   "cell_type": "code",
   "execution_count": 1164,
   "metadata": {},
   "outputs": [],
   "source": [
    "df_train_1p = df_train.copy()\n",
    "\n",
    "for col in df_train_1p.columns:\n",
    "    df_train_1p.loc[df_train_1p.sample(frac=0.01).index, col] = np.nan\n",
    "\n",
    "for column in df_train_1p.columns:\n",
    "    if pd.api.types.is_numeric_dtype(df_train_1p[column]):\n",
    "        df_train_1p[column].fillna(df_train_1p[column].mean(), inplace=True)\n",
    "    elif pd.api.types.is_string_dtype(df[column]):\n",
    "        df_train_1p[column].fillna(df_train_1p[column].mode()[0], inplace=True)\n",
    "\n",
    "x_train_1p = df_train_1p.drop(1, axis=1)\n",
    "y_train_1p = df_train_1p[1]\n"
   ]
  },
  {
   "cell_type": "code",
   "execution_count": 1165,
   "metadata": {},
   "outputs": [
    {
     "name": "stdout",
     "output_type": "stream",
     "text": [
      "RandomForestClassifier acc: (1%) 0.951048951048951\n"
     ]
    }
   ],
   "source": [
    "model = RandomForestClassifier()\n",
    "model.fit(x_train_1p, y_train_1p)\n",
    "\n",
    "y_pred = model.predict(x_test)\n",
    "\n",
    "acc_1p = accuracy_score(y_test, y_pred)\n",
    "print(\"RandomForestClassifier acc: (1%)\", acc_1p)\n"
   ]
  },
  {
   "cell_type": "markdown",
   "metadata": {},
   "source": [
    "### 2.6. Test on Random Forest Classifier with missing values (5%) - replace with mean value\n"
   ]
  },
  {
   "cell_type": "code",
   "execution_count": 1166,
   "metadata": {},
   "outputs": [],
   "source": [
    "df_train_5p = df_train.copy()\n",
    "\n",
    "for col in df_train_5p.columns:\n",
    "    df_train_5p.loc[df_train_5p.sample(frac=0.01).index, col] = np.nan\n",
    "\n",
    "for column in df_train_5p.columns:\n",
    "    if pd.api.types.is_numeric_dtype(df_train_5p[column]):\n",
    "        df_train_5p[column].fillna(df_train_5p[column].mean(), inplace=True)\n",
    "    elif pd.api.types.is_string_dtype(df[column]):\n",
    "        df_train_5p[column].fillna(df_train_5p[column].mode()[0], inplace=True)\n",
    "\n",
    "x_train_5p = df_train_5p.drop(1, axis=1)\n",
    "y_train_5p = df_train_5p[1]\n"
   ]
  },
  {
   "cell_type": "code",
   "execution_count": 1167,
   "metadata": {},
   "outputs": [
    {
     "name": "stdout",
     "output_type": "stream",
     "text": [
      "RandomForestClassifier acc: (5%) 0.958041958041958\n"
     ]
    }
   ],
   "source": [
    "model = RandomForestClassifier()\n",
    "model.fit(x_train_5p, y_train_5p)\n",
    "\n",
    "y_pred = model.predict(x_test)\n",
    "\n",
    "acc_5p = accuracy_score(y_test, y_pred)\n",
    "print(\"RandomForestClassifier acc: (5%)\", acc_5p)\n"
   ]
  },
  {
   "cell_type": "markdown",
   "metadata": {},
   "source": [
    "### 2.7. Test on Random Forest Classifier with missing values (10%) - replace with mean value\n"
   ]
  },
  {
   "cell_type": "code",
   "execution_count": 1168,
   "metadata": {},
   "outputs": [],
   "source": [
    "df_train_10p = df_train.copy()\n",
    "\n",
    "for col in df_train_10p.columns:\n",
    "    df_train_10p.loc[df_train_10p.sample(frac=0.01).index, col] = np.nan\n",
    "\n",
    "for column in df_train_10p.columns:\n",
    "    if pd.api.types.is_numeric_dtype(df_train_10p[column]):\n",
    "        df_train_10p[column].fillna(df_train_10p[column].mean(), inplace=True)\n",
    "    elif pd.api.types.is_string_dtype(df[column]):\n",
    "        df_train_10p[column].fillna(df_train_10p[column].mode()[0], inplace=True)\n",
    "\n",
    "x_train_10p = df_train_10p.drop(1, axis=1)\n",
    "y_train_10p = df_train_10p[1]\n"
   ]
  },
  {
   "cell_type": "code",
   "execution_count": 1169,
   "metadata": {},
   "outputs": [
    {
     "name": "stdout",
     "output_type": "stream",
     "text": [
      "RandomForestClassifier acc: (10%) 0.951048951048951\n"
     ]
    }
   ],
   "source": [
    "model = RandomForestClassifier()\n",
    "model.fit(x_train_10p, y_train_10p)\n",
    "\n",
    "y_pred = model.predict(x_test)\n",
    "\n",
    "acc_10p = accuracy_score(y_test, y_pred)\n",
    "print(\"RandomForestClassifier acc: (10%)\", acc_10p)\n"
   ]
  },
  {
   "cell_type": "markdown",
   "metadata": {},
   "source": [
    "### Summary of deleting records and replacing records with missing values"
   ]
  },
  {
   "cell_type": "code",
   "execution_count": 1170,
   "metadata": {},
   "outputs": [
    {
     "data": {
      "image/png": "[encoded data removed]",
      "text/plain": [
       "<Figure size 640x480 with 1 Axes>"
      ]
     },
     "metadata": {},
     "output_type": "display_data"
    }
   ],
   "source": [
    "acc_mean = [acc, acc_1p, acc_5p, acc_10p]\n",
    "x = [\"all values\", \"1% missing\", \"5% missing\", \"10% missing\"]\n",
    "\n",
    "plt.plot(x, acc_droped, marker=\"o\", label=\"drop missing values\")\n",
    "plt.plot(x, acc_mean, marker=\"o\", label=\"mean missing values\")\n",
    "\n",
    "plt.title(\"Accuracy dependency on missing values\")\n",
    "plt.xlabel(\"Missing values [%]\")\n",
    "plt.ylabel(\"Accuracy\")\n",
    "plt.legend()\n",
    "\n",
    "plt.show()\n"
   ]
  },
  {
   "cell_type": "markdown",
   "metadata": {},
   "source": [
    "As you can see in the chart, regardless of whether we replace the missing values with the average value from the column or delete given records, the effectiveness of the model slightly decreases, although it does not have a significant impact.\n",
    "\n",
    "Personally, I think that the data is quite simple and hence the impact of missing records on the high performance of the model is small.\n",
    "\n",
    "I also believe that averaging the result is better than deleting records and should impact the model better."
   ]
  },
  {
   "cell_type": "markdown",
   "metadata": {},
   "source": [
    "# 3. Breast Cancer Wisconsin (Diagnostic) dataset"
   ]
  },
  {
   "cell_type": "code",
   "execution_count": 1171,
   "metadata": {},
   "outputs": [
    {
     "data": {
      "text/html": [
       "<div>\n",
       "<style scoped>\n",
       "    .dataframe tbody tr th:only-of-type {\n",
       "        vertical-align: middle;\n",
       "    }\n",
       "\n",
       "    .dataframe tbody tr th {\n",
       "        vertical-align: top;\n",
       "    }\n",
       "\n",
       "    .dataframe thead th {\n",
       "        text-align: right;\n",
       "    }\n",
       "</style>\n",
       "<table border=\"1\" class=\"dataframe\">\n",
       "  <thead>\n",
       "    <tr style=\"text-align: right;\">\n",
       "      <th></th>\n",
       "      <th>crim</th>\n",
       "      <th>zn</th>\n",
       "      <th>indus</th>\n",
       "      <th>chas</th>\n",
       "      <th>nox</th>\n",
       "      <th>rm</th>\n",
       "      <th>age</th>\n",
       "      <th>dis</th>\n",
       "      <th>rad</th>\n",
       "      <th>tax</th>\n",
       "      <th>ptratio</th>\n",
       "      <th>b</th>\n",
       "      <th>lstat</th>\n",
       "      <th>medv</th>\n",
       "    </tr>\n",
       "  </thead>\n",
       "  <tbody>\n",
       "    <tr>\n",
       "      <th>0</th>\n",
       "      <td>5.82115</td>\n",
       "      <td>0.0</td>\n",
       "      <td>18.10</td>\n",
       "      <td>0</td>\n",
       "      <td>0.7130</td>\n",
       "      <td>6.513</td>\n",
       "      <td>89.9</td>\n",
       "      <td>2.8016</td>\n",
       "      <td>24</td>\n",
       "      <td>666</td>\n",
       "      <td>20.2</td>\n",
       "      <td>393.82</td>\n",
       "      <td>10.29</td>\n",
       "      <td>20.2</td>\n",
       "    </tr>\n",
       "    <tr>\n",
       "      <th>1</th>\n",
       "      <td>0.05188</td>\n",
       "      <td>0.0</td>\n",
       "      <td>4.49</td>\n",
       "      <td>0</td>\n",
       "      <td>0.4490</td>\n",
       "      <td>6.015</td>\n",
       "      <td>45.1</td>\n",
       "      <td>4.4272</td>\n",
       "      <td>3</td>\n",
       "      <td>247</td>\n",
       "      <td>18.5</td>\n",
       "      <td>395.99</td>\n",
       "      <td>12.86</td>\n",
       "      <td>22.5</td>\n",
       "    </tr>\n",
       "    <tr>\n",
       "      <th>2</th>\n",
       "      <td>0.06076</td>\n",
       "      <td>0.0</td>\n",
       "      <td>11.93</td>\n",
       "      <td>0</td>\n",
       "      <td>0.5730</td>\n",
       "      <td>6.976</td>\n",
       "      <td>91.0</td>\n",
       "      <td>2.1675</td>\n",
       "      <td>1</td>\n",
       "      <td>273</td>\n",
       "      <td>21.0</td>\n",
       "      <td>396.90</td>\n",
       "      <td>5.64</td>\n",
       "      <td>23.9</td>\n",
       "    </tr>\n",
       "    <tr>\n",
       "      <th>3</th>\n",
       "      <td>0.02009</td>\n",
       "      <td>95.0</td>\n",
       "      <td>2.68</td>\n",
       "      <td>0</td>\n",
       "      <td>0.4161</td>\n",
       "      <td>8.034</td>\n",
       "      <td>31.9</td>\n",
       "      <td>5.1180</td>\n",
       "      <td>4</td>\n",
       "      <td>224</td>\n",
       "      <td>14.7</td>\n",
       "      <td>390.55</td>\n",
       "      <td>2.88</td>\n",
       "      <td>50.0</td>\n",
       "    </tr>\n",
       "    <tr>\n",
       "      <th>4</th>\n",
       "      <td>3.67367</td>\n",
       "      <td>0.0</td>\n",
       "      <td>18.10</td>\n",
       "      <td>0</td>\n",
       "      <td>0.5830</td>\n",
       "      <td>6.312</td>\n",
       "      <td>51.9</td>\n",
       "      <td>3.9917</td>\n",
       "      <td>24</td>\n",
       "      <td>666</td>\n",
       "      <td>20.2</td>\n",
       "      <td>388.62</td>\n",
       "      <td>10.58</td>\n",
       "      <td>21.2</td>\n",
       "    </tr>\n",
       "    <tr>\n",
       "      <th>...</th>\n",
       "      <td>...</td>\n",
       "      <td>...</td>\n",
       "      <td>...</td>\n",
       "      <td>...</td>\n",
       "      <td>...</td>\n",
       "      <td>...</td>\n",
       "      <td>...</td>\n",
       "      <td>...</td>\n",
       "      <td>...</td>\n",
       "      <td>...</td>\n",
       "      <td>...</td>\n",
       "      <td>...</td>\n",
       "      <td>...</td>\n",
       "      <td>...</td>\n",
       "    </tr>\n",
       "    <tr>\n",
       "      <th>501</th>\n",
       "      <td>4.64689</td>\n",
       "      <td>0.0</td>\n",
       "      <td>18.10</td>\n",
       "      <td>0</td>\n",
       "      <td>0.6140</td>\n",
       "      <td>6.980</td>\n",
       "      <td>67.6</td>\n",
       "      <td>2.5329</td>\n",
       "      <td>24</td>\n",
       "      <td>666</td>\n",
       "      <td>20.2</td>\n",
       "      <td>374.68</td>\n",
       "      <td>11.66</td>\n",
       "      <td>29.8</td>\n",
       "    </tr>\n",
       "    <tr>\n",
       "      <th>502</th>\n",
       "      <td>0.04294</td>\n",
       "      <td>28.0</td>\n",
       "      <td>15.04</td>\n",
       "      <td>0</td>\n",
       "      <td>0.4640</td>\n",
       "      <td>6.249</td>\n",
       "      <td>77.3</td>\n",
       "      <td>3.6150</td>\n",
       "      <td>4</td>\n",
       "      <td>270</td>\n",
       "      <td>18.2</td>\n",
       "      <td>396.90</td>\n",
       "      <td>10.59</td>\n",
       "      <td>20.6</td>\n",
       "    </tr>\n",
       "    <tr>\n",
       "      <th>503</th>\n",
       "      <td>0.44178</td>\n",
       "      <td>0.0</td>\n",
       "      <td>6.20</td>\n",
       "      <td>0</td>\n",
       "      <td>0.5040</td>\n",
       "      <td>6.552</td>\n",
       "      <td>21.4</td>\n",
       "      <td>3.3751</td>\n",
       "      <td>8</td>\n",
       "      <td>307</td>\n",
       "      <td>17.4</td>\n",
       "      <td>380.34</td>\n",
       "      <td>3.76</td>\n",
       "      <td>31.5</td>\n",
       "    </tr>\n",
       "    <tr>\n",
       "      <th>504</th>\n",
       "      <td>0.22969</td>\n",
       "      <td>0.0</td>\n",
       "      <td>10.59</td>\n",
       "      <td>0</td>\n",
       "      <td>0.4890</td>\n",
       "      <td>6.326</td>\n",
       "      <td>52.5</td>\n",
       "      <td>4.3549</td>\n",
       "      <td>4</td>\n",
       "      <td>277</td>\n",
       "      <td>18.6</td>\n",
       "      <td>394.87</td>\n",
       "      <td>10.97</td>\n",
       "      <td>24.4</td>\n",
       "    </tr>\n",
       "    <tr>\n",
       "      <th>505</th>\n",
       "      <td>0.05023</td>\n",
       "      <td>35.0</td>\n",
       "      <td>6.06</td>\n",
       "      <td>0</td>\n",
       "      <td>0.4379</td>\n",
       "      <td>5.706</td>\n",
       "      <td>28.4</td>\n",
       "      <td>6.6407</td>\n",
       "      <td>1</td>\n",
       "      <td>304</td>\n",
       "      <td>16.9</td>\n",
       "      <td>394.02</td>\n",
       "      <td>12.43</td>\n",
       "      <td>17.1</td>\n",
       "    </tr>\n",
       "  </tbody>\n",
       "</table>\n",
       "<p>506 rows × 14 columns</p>\n",
       "</div>"
      ],
      "text/plain": [
       "        crim    zn  indus  chas     nox     rm   age     dis  rad  tax  \\\n",
       "0    5.82115   0.0  18.10     0  0.7130  6.513  89.9  2.8016   24  666   \n",
       "1    0.05188   0.0   4.49     0  0.4490  6.015  45.1  4.4272    3  247   \n",
       "2    0.06076   0.0  11.93     0  0.5730  6.976  91.0  2.1675    1  273   \n",
       "3    0.02009  95.0   2.68     0  0.4161  8.034  31.9  5.1180    4  224   \n",
       "4    3.67367   0.0  18.10     0  0.5830  6.312  51.9  3.9917   24  666   \n",
       "..       ...   ...    ...   ...     ...    ...   ...     ...  ...  ...   \n",
       "501  4.64689   0.0  18.10     0  0.6140  6.980  67.6  2.5329   24  666   \n",
       "502  0.04294  28.0  15.04     0  0.4640  6.249  77.3  3.6150    4  270   \n",
       "503  0.44178   0.0   6.20     0  0.5040  6.552  21.4  3.3751    8  307   \n",
       "504  0.22969   0.0  10.59     0  0.4890  6.326  52.5  4.3549    4  277   \n",
       "505  0.05023  35.0   6.06     0  0.4379  5.706  28.4  6.6407    1  304   \n",
       "\n",
       "     ptratio       b  lstat  medv  \n",
       "0       20.2  393.82  10.29  20.2  \n",
       "1       18.5  395.99  12.86  22.5  \n",
       "2       21.0  396.90   5.64  23.9  \n",
       "3       14.7  390.55   2.88  50.0  \n",
       "4       20.2  388.62  10.58  21.2  \n",
       "..       ...     ...    ...   ...  \n",
       "501     20.2  374.68  11.66  29.8  \n",
       "502     18.2  396.90  10.59  20.6  \n",
       "503     17.4  380.34   3.76  31.5  \n",
       "504     18.6  394.87  10.97  24.4  \n",
       "505     16.9  394.02  12.43  17.1  \n",
       "\n",
       "[506 rows x 14 columns]"
      ]
     },
     "execution_count": 1171,
     "metadata": {},
     "output_type": "execute_result"
    }
   ],
   "source": [
    "df = pd.read_csv(\"data/boston.data\", sep=\",\")\n",
    "df = df.sample(frac=1).reset_index(drop=True)\n",
    "df\n"
   ]
  },
  {
   "cell_type": "code",
   "execution_count": 1172,
   "metadata": {},
   "outputs": [
    {
     "data": {
      "text/plain": [
       "count    506.000000\n",
       "mean      22.532806\n",
       "std        9.197104\n",
       "min        5.000000\n",
       "25%       17.025000\n",
       "50%       21.200000\n",
       "75%       25.000000\n",
       "max       50.000000\n",
       "Name: medv, dtype: float64"
      ]
     },
     "execution_count": 1172,
     "metadata": {},
     "output_type": "execute_result"
    }
   ],
   "source": [
    "df[\"medv\"].describe()  # target\n"
   ]
  },
  {
   "cell_type": "code",
   "execution_count": 1173,
   "metadata": {},
   "outputs": [
    {
     "name": "stdout",
     "output_type": "stream",
     "text": [
      "(379, 14)\n"
     ]
    }
   ],
   "source": [
    "df_len = df.shape[0]\n",
    "train_size = int(df_len*0.75)\n",
    "\n",
    "df_train = df.iloc[:train_size, :]\n",
    "df_test = df.iloc[train_size:, :]\n",
    "\n",
    "print(df_train.shape)\n"
   ]
  },
  {
   "cell_type": "markdown",
   "metadata": {},
   "source": [
    "From now, we will changing only df_train without df_test because we want to check how models accuracy will change.\n"
   ]
  },
  {
   "cell_type": "code",
   "execution_count": 1174,
   "metadata": {},
   "outputs": [],
   "source": [
    "x_train = df_train.drop(\"medv\", axis=1)\n",
    "y_train = df_train[\"medv\"]\n",
    "\n",
    "x_test = df_test.drop(\"medv\", axis=1)\n",
    "y_test = df_test[\"medv\"]\n"
   ]
  },
  {
   "cell_type": "markdown",
   "metadata": {},
   "source": [
    "### 3.1. Test on Random Forest Regressor without missing values\n"
   ]
  },
  {
   "cell_type": "code",
   "execution_count": 1175,
   "metadata": {},
   "outputs": [
    {
     "name": "stdout",
     "output_type": "stream",
     "text": [
      "RandomForestRegressor MSE: 7.349585110236215\n"
     ]
    }
   ],
   "source": [
    "model = RandomForestRegressor()\n",
    "model.fit(x_train, y_train)\n",
    "\n",
    "y_pred = model.predict(x_test)\n",
    "\n",
    "mse = mean_squared_error(y_test, y_pred)\n",
    "print(\"RandomForestRegressor MSE:\", mse)\n"
   ]
  },
  {
   "cell_type": "markdown",
   "metadata": {},
   "source": [
    "### 3.2. Test on Random Forest Regressor with missing values (1%)\n"
   ]
  },
  {
   "cell_type": "code",
   "execution_count": 1176,
   "metadata": {},
   "outputs": [
    {
     "name": "stdout",
     "output_type": "stream",
     "text": [
      "(325, 14)\n"
     ]
    }
   ],
   "source": [
    "df_train_1p = df_train.copy()\n",
    "\n",
    "for col in df_train_1p.columns:\n",
    "    df_train_1p.loc[df_train_1p.sample(frac=0.01).index, col] = np.nan\n",
    "\n",
    "df_train_1p = df_train_1p.dropna()\n",
    "print(df_train_1p.shape)\n",
    "\n",
    "x_train_1p = df_train_1p.drop(\"medv\", axis=1)\n",
    "y_train_1p = df_train_1p[\"medv\"]\n"
   ]
  },
  {
   "cell_type": "code",
   "execution_count": 1177,
   "metadata": {},
   "outputs": [
    {
     "name": "stdout",
     "output_type": "stream",
     "text": [
      "RandomForestRegressor MSE (1%): 7.652550677165348\n"
     ]
    }
   ],
   "source": [
    "model = RandomForestRegressor()\n",
    "model.fit(x_train_1p, y_train_1p)\n",
    "\n",
    "y_pred = model.predict(x_test)\n",
    "\n",
    "mse_1p = mean_squared_error(y_test, y_pred)\n",
    "print(\"RandomForestRegressor MSE (1%):\", mse_1p)\n"
   ]
  },
  {
   "cell_type": "markdown",
   "metadata": {},
   "source": [
    "### 3.3. Test on Random Forest Regressor with missing values (5%)\n"
   ]
  },
  {
   "cell_type": "code",
   "execution_count": 1178,
   "metadata": {},
   "outputs": [
    {
     "name": "stdout",
     "output_type": "stream",
     "text": [
      "(183, 14)\n"
     ]
    }
   ],
   "source": [
    "df_train_5p = df_train.copy()\n",
    "\n",
    "for col in df_train_5p.columns:\n",
    "    df_train_5p.loc[df_train_5p.sample(frac=0.05).index, col] = np.nan\n",
    "\n",
    "df_train_5p = df_train_5p.dropna()\n",
    "print(df_train_5p.shape)\n",
    "\n",
    "x_train_5p = df_train_5p.drop(\"medv\", axis=1)\n",
    "y_train_5p = df_train_5p[\"medv\"]\n"
   ]
  },
  {
   "cell_type": "code",
   "execution_count": 1179,
   "metadata": {},
   "outputs": [
    {
     "name": "stdout",
     "output_type": "stream",
     "text": [
      "RandomForestRegressor MSE (5%): 9.030513385826765\n"
     ]
    }
   ],
   "source": [
    "model = RandomForestRegressor()\n",
    "model.fit(x_train_5p, y_train_5p)\n",
    "\n",
    "y_pred = model.predict(x_test)\n",
    "\n",
    "mse_5p = mean_squared_error(y_test, y_pred)\n",
    "print(\"RandomForestRegressor MSE (5%):\", mse_5p)\n"
   ]
  },
  {
   "cell_type": "markdown",
   "metadata": {},
   "source": [
    "### 3.4. Test on Random Forest Regressor with missing values (10%)\n"
   ]
  },
  {
   "cell_type": "code",
   "execution_count": 1180,
   "metadata": {},
   "outputs": [
    {
     "name": "stdout",
     "output_type": "stream",
     "text": [
      "(82, 14)\n"
     ]
    }
   ],
   "source": [
    "df_train_10p = df_train.copy()\n",
    "\n",
    "for col in df_train_10p.columns:\n",
    "    df_train_10p.loc[df_train_10p.sample(frac=0.1).index, col] = np.nan\n",
    "\n",
    "df_train_10p = df_train_10p.dropna()\n",
    "print(df_train_10p.shape)\n",
    "\n",
    "x_train_10p = df_train_10p.drop(\"medv\", axis=1)\n",
    "y_train_10p = df_train_10p[\"medv\"]\n"
   ]
  },
  {
   "cell_type": "code",
   "execution_count": 1181,
   "metadata": {},
   "outputs": [
    {
     "name": "stdout",
     "output_type": "stream",
     "text": [
      "RandomForestRegressor MSE (10%): 12.200324763779513\n"
     ]
    }
   ],
   "source": [
    "model = RandomForestRegressor()\n",
    "model.fit(x_train_10p, y_train_10p)\n",
    "\n",
    "y_pred = model.predict(x_test)\n",
    "\n",
    "mse_10p = mean_squared_error(y_test, y_pred)\n",
    "print(\"RandomForestRegressor MSE (10%):\", mse_10p)\n"
   ]
  },
  {
   "cell_type": "markdown",
   "metadata": {},
   "source": [
    "### Summary of deleting records with missing values"
   ]
  },
  {
   "cell_type": "code",
   "execution_count": 1182,
   "metadata": {},
   "outputs": [
    {
     "data": {
      "image/png": "[encoded data removed]",
      "text/plain": [
       "<Figure size 640x480 with 1 Axes>"
      ]
     },
     "metadata": {},
     "output_type": "display_data"
    }
   ],
   "source": [
    "mse_droped = [mse, mse_1p, mse_5p, mse_10p]\n",
    "x = [\"all values\", \"1% missing\", \"5% missing\", \"10% missing\"]\n",
    "\n",
    "plt.plot(x, mse_droped, marker=\"o\", label=\"drop missing values\")\n",
    "\n",
    "plt.title(\"MSE dependency on missing values\")\n",
    "plt.xlabel(\"Missing values [%]\")\n",
    "plt.ylabel(\"MSE\")\n",
    "plt.legend()\n",
    "\n",
    "plt.show()\n"
   ]
  },
  {
   "cell_type": "markdown",
   "metadata": {},
   "source": [
    "### 3.5. Test on Random Forest Regressor with missing values (1%) - replace with mean value\n"
   ]
  },
  {
   "cell_type": "code",
   "execution_count": 1183,
   "metadata": {},
   "outputs": [],
   "source": [
    "df_train_1p = df_train.copy()\n",
    "\n",
    "for col in df_train_1p.columns:\n",
    "    df_train_1p.loc[df_train_1p.sample(frac=0.01).index, col] = np.nan\n",
    "\n",
    "for column in df_train_1p.columns:\n",
    "    if pd.api.types.is_numeric_dtype(df_train_1p[column]):\n",
    "        df_train_1p[column].fillna(df_train_1p[column].mean(), inplace=True)\n",
    "    elif pd.api.types.is_string_dtype(df[column]):\n",
    "        df_train_1p[column].fillna(df_train_1p[column].mode()[0], inplace=True)\n",
    "\n",
    "x_train_1p = df_train_1p.drop(\"medv\", axis=1)\n",
    "y_train_1p = df_train_1p[\"medv\"]\n"
   ]
  },
  {
   "cell_type": "code",
   "execution_count": 1184,
   "metadata": {},
   "outputs": [
    {
     "name": "stdout",
     "output_type": "stream",
     "text": [
      "RandomForestRegressor MSE (1%): 7.63959836550691\n"
     ]
    }
   ],
   "source": [
    "model = RandomForestRegressor()\n",
    "model.fit(x_train_1p, y_train_1p)\n",
    "\n",
    "y_pred = model.predict(x_test)\n",
    "\n",
    "mse_1p = mean_squared_error(y_test, y_pred)\n",
    "print(\"RandomForestRegressor MSE (1%):\", mse_1p)\n"
   ]
  },
  {
   "cell_type": "markdown",
   "metadata": {},
   "source": [
    "### 3.6. Test on Random Forest Regressor with missing values (5%) - replace with mean value\n"
   ]
  },
  {
   "cell_type": "code",
   "execution_count": 1185,
   "metadata": {},
   "outputs": [],
   "source": [
    "df_train_5p = df_train.copy()\n",
    "\n",
    "for col in df_train_5p.columns:\n",
    "    df_train_5p.loc[df_train_5p.sample(frac=0.05).index, col] = np.nan\n",
    "\n",
    "for column in df_train_5p.columns:\n",
    "    if pd.api.types.is_numeric_dtype(df_train_5p[column]):\n",
    "        df_train_5p[column].fillna(df_train_5p[column].mean(), inplace=True)\n",
    "    elif pd.api.types.is_string_dtype(df[column]):\n",
    "        df_train_5p[column].fillna(df_train_5p[column].mode()[0], inplace=True)\n",
    "\n",
    "x_train_5p = df_train_5p.drop(\"medv\", axis=1)\n",
    "y_train_5p = df_train_5p[\"medv\"]\n"
   ]
  },
  {
   "cell_type": "code",
   "execution_count": 1186,
   "metadata": {},
   "outputs": [
    {
     "name": "stdout",
     "output_type": "stream",
     "text": [
      "RandomForestRegressor MSE (5%): 8.0768870047244\n"
     ]
    }
   ],
   "source": [
    "model = RandomForestRegressor()\n",
    "model.fit(x_train_5p, y_train_5p)\n",
    "\n",
    "y_pred = model.predict(x_test)\n",
    "\n",
    "mse_5p = mean_squared_error(y_test, y_pred)\n",
    "print(\"RandomForestRegressor MSE (5%):\", mse_5p)\n"
   ]
  },
  {
   "cell_type": "markdown",
   "metadata": {},
   "source": [
    "### 3.7. Test on Random Forest Regressor with missing values (10%) - replace with mean value\n"
   ]
  },
  {
   "cell_type": "code",
   "execution_count": 1187,
   "metadata": {},
   "outputs": [],
   "source": [
    "df_train_10p = df_train.copy()\n",
    "\n",
    "for col in df_train_10p.columns:\n",
    "    df_train_10p.loc[df_train_10p.sample(frac=0.05).index, col] = np.nan\n",
    "\n",
    "for column in df_train_10p.columns:\n",
    "    if pd.api.types.is_numeric_dtype(df_train_10p[column]):\n",
    "        df_train_10p[column].fillna(df_train_10p[column].mean(), inplace=True)\n",
    "    elif pd.api.types.is_string_dtype(df[column]):\n",
    "        df_train_10p[column].fillna(df_train_10p[column].mode()[0], inplace=True)\n",
    "\n",
    "x_train_10p = df_train_10p.drop(\"medv\", axis=1)\n",
    "y_train_10p = df_train_10p[\"medv\"]\n"
   ]
  },
  {
   "cell_type": "code",
   "execution_count": 1188,
   "metadata": {},
   "outputs": [
    {
     "name": "stdout",
     "output_type": "stream",
     "text": [
      "RandomForestRegressor MSE (5%): 10.427498122125986\n"
     ]
    }
   ],
   "source": [
    "model = RandomForestRegressor()\n",
    "model.fit(x_train_10p, y_train_10p)\n",
    "\n",
    "y_pred = model.predict(x_test)\n",
    "\n",
    "mse_10p = mean_squared_error(y_test, y_pred)\n",
    "print(\"RandomForestRegressor MSE (5%):\", mse_10p)\n"
   ]
  },
  {
   "cell_type": "markdown",
   "metadata": {},
   "source": [
    "### Summary of deleting records and replacing records with missing values"
   ]
  },
  {
   "cell_type": "code",
   "execution_count": 1190,
   "metadata": {},
   "outputs": [
    {
     "data": {
      "image/png": "[encoded data removed]",
      "text/plain": [
       "<Figure size 640x480 with 1 Axes>"
      ]
     },
     "metadata": {},
     "output_type": "display_data"
    }
   ],
   "source": [
    "mse_mean = [mse, mse_1p, mse_5p, mse_10p]\n",
    "x = [\"all values\", \"1% missing\", \"5% missing\", \"10% missing\"]\n",
    "\n",
    "plt.plot(x, mse_droped, marker=\"o\", label=\"drop missing values\")\n",
    "plt.plot(x, mse_mean, marker=\"o\", label=\"mean missing values\")\n",
    "\n",
    "plt.title(\"MSE dependency on missing values\")\n",
    "plt.xlabel(\"Missing values [%]\")\n",
    "plt.ylabel(\"MSE\")\n",
    "plt.legend()\n",
    "\n",
    "plt.show()\n"
   ]
  },
  {
   "cell_type": "markdown",
   "metadata": {},
   "source": [
    "Similarly to the previous data set, we can see that the method of replacing missing values instead of deleting records is better (the MSE is smaller)."
   ]
  },
  {
   "cell_type": "markdown",
   "metadata": {},
   "source": [
    "# 4. Summary"
   ]
  },
  {
   "cell_type": "markdown",
   "metadata": {},
   "source": [
    "To summarize the entire lab, missing data is a noticeable problem for models.\n",
    "\n",
    "Because we have to delete or artificially fill such records, the effectiveness of the model regularly decreases as the percentage of missing data increases."
   ]
  }
 ],
 "metadata": {
  "kernelspec": {
   "display_name": "ssne",
   "language": "python",
   "name": "python3"
  },
  "language_info": {
   "codemirror_mode": {
    "name": "ipython",
    "version": 3
   },
   "file_extension": ".py",
   "mimetype": "text/x-python",
   "name": "python",
   "nbconvert_exporter": "python",
   "pygments_lexer": "ipython3",
   "version": "3.10.8"
  },
  "orig_nbformat": 4
 },
 "nbformat": 4,
 "nbformat_minor": 2
}
