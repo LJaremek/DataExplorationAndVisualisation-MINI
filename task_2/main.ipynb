{
 "cells": [
  {
   "cell_type": "markdown",
   "metadata": {},
   "source": [
    "# 1. Imports"
   ]
  },
  {
   "cell_type": "code",
   "execution_count": 488,
   "metadata": {},
   "outputs": [],
   "source": [
    "from sklearn.ensemble import RandomForestClassifier\n",
    "from sklearn.metrics import accuracy_score\n",
    "# from statsmodels.api import OLS\n",
    "import matplotlib.pyplot as plt\n",
    "import pandas as pd\n",
    "import numpy as np\n"
   ]
  },
  {
   "cell_type": "code",
   "execution_count": 489,
   "metadata": {},
   "outputs": [],
   "source": [
    "SEED = 7331\n",
    "\n",
    "np.random.seed(SEED)"
   ]
  },
  {
   "cell_type": "markdown",
   "metadata": {},
   "source": [
    "# 2. Breast Cancer Wisconsin (Diagnostic) dataset\n"
   ]
  },
  {
   "cell_type": "code",
   "execution_count": 490,
   "metadata": {},
   "outputs": [
    {
     "data": {
      "text/html": [
       "<div>\n",
       "<style scoped>\n",
       "    .dataframe tbody tr th:only-of-type {\n",
       "        vertical-align: middle;\n",
       "    }\n",
       "\n",
       "    .dataframe tbody tr th {\n",
       "        vertical-align: top;\n",
       "    }\n",
       "\n",
       "    .dataframe thead th {\n",
       "        text-align: right;\n",
       "    }\n",
       "</style>\n",
       "<table border=\"1\" class=\"dataframe\">\n",
       "  <thead>\n",
       "    <tr style=\"text-align: right;\">\n",
       "      <th></th>\n",
       "      <th>0</th>\n",
       "      <th>1</th>\n",
       "      <th>2</th>\n",
       "      <th>3</th>\n",
       "      <th>4</th>\n",
       "      <th>5</th>\n",
       "      <th>6</th>\n",
       "      <th>7</th>\n",
       "      <th>8</th>\n",
       "      <th>9</th>\n",
       "      <th>...</th>\n",
       "      <th>22</th>\n",
       "      <th>23</th>\n",
       "      <th>24</th>\n",
       "      <th>25</th>\n",
       "      <th>26</th>\n",
       "      <th>27</th>\n",
       "      <th>28</th>\n",
       "      <th>29</th>\n",
       "      <th>30</th>\n",
       "      <th>31</th>\n",
       "    </tr>\n",
       "  </thead>\n",
       "  <tbody>\n",
       "    <tr>\n",
       "      <th>0</th>\n",
       "      <td>857155</td>\n",
       "      <td>B</td>\n",
       "      <td>12.05</td>\n",
       "      <td>14.63</td>\n",
       "      <td>78.04</td>\n",
       "      <td>449.3</td>\n",
       "      <td>0.10310</td>\n",
       "      <td>0.09092</td>\n",
       "      <td>0.065920</td>\n",
       "      <td>0.027490</td>\n",
       "      <td>...</td>\n",
       "      <td>13.76</td>\n",
       "      <td>20.70</td>\n",
       "      <td>89.88</td>\n",
       "      <td>582.6</td>\n",
       "      <td>0.1494</td>\n",
       "      <td>0.21560</td>\n",
       "      <td>0.305000</td>\n",
       "      <td>0.065480</td>\n",
       "      <td>0.2747</td>\n",
       "      <td>0.08301</td>\n",
       "    </tr>\n",
       "    <tr>\n",
       "      <th>1</th>\n",
       "      <td>8912521</td>\n",
       "      <td>B</td>\n",
       "      <td>12.58</td>\n",
       "      <td>18.40</td>\n",
       "      <td>79.83</td>\n",
       "      <td>489.0</td>\n",
       "      <td>0.08393</td>\n",
       "      <td>0.04216</td>\n",
       "      <td>0.001860</td>\n",
       "      <td>0.002924</td>\n",
       "      <td>...</td>\n",
       "      <td>13.50</td>\n",
       "      <td>23.08</td>\n",
       "      <td>85.56</td>\n",
       "      <td>564.1</td>\n",
       "      <td>0.1038</td>\n",
       "      <td>0.06624</td>\n",
       "      <td>0.005579</td>\n",
       "      <td>0.008772</td>\n",
       "      <td>0.2505</td>\n",
       "      <td>0.06431</td>\n",
       "    </tr>\n",
       "    <tr>\n",
       "      <th>2</th>\n",
       "      <td>889719</td>\n",
       "      <td>M</td>\n",
       "      <td>17.19</td>\n",
       "      <td>22.07</td>\n",
       "      <td>111.60</td>\n",
       "      <td>928.3</td>\n",
       "      <td>0.09726</td>\n",
       "      <td>0.08995</td>\n",
       "      <td>0.090610</td>\n",
       "      <td>0.065270</td>\n",
       "      <td>...</td>\n",
       "      <td>21.58</td>\n",
       "      <td>29.33</td>\n",
       "      <td>140.50</td>\n",
       "      <td>1436.0</td>\n",
       "      <td>0.1558</td>\n",
       "      <td>0.25670</td>\n",
       "      <td>0.388900</td>\n",
       "      <td>0.198400</td>\n",
       "      <td>0.3216</td>\n",
       "      <td>0.07570</td>\n",
       "    </tr>\n",
       "    <tr>\n",
       "      <th>3</th>\n",
       "      <td>906564</td>\n",
       "      <td>B</td>\n",
       "      <td>14.69</td>\n",
       "      <td>13.98</td>\n",
       "      <td>98.22</td>\n",
       "      <td>656.1</td>\n",
       "      <td>0.10310</td>\n",
       "      <td>0.18360</td>\n",
       "      <td>0.145000</td>\n",
       "      <td>0.063000</td>\n",
       "      <td>...</td>\n",
       "      <td>16.46</td>\n",
       "      <td>18.34</td>\n",
       "      <td>114.10</td>\n",
       "      <td>809.2</td>\n",
       "      <td>0.1312</td>\n",
       "      <td>0.36350</td>\n",
       "      <td>0.321900</td>\n",
       "      <td>0.110800</td>\n",
       "      <td>0.2827</td>\n",
       "      <td>0.09208</td>\n",
       "    </tr>\n",
       "    <tr>\n",
       "      <th>4</th>\n",
       "      <td>859717</td>\n",
       "      <td>M</td>\n",
       "      <td>17.20</td>\n",
       "      <td>24.52</td>\n",
       "      <td>114.20</td>\n",
       "      <td>929.4</td>\n",
       "      <td>0.10710</td>\n",
       "      <td>0.18300</td>\n",
       "      <td>0.169200</td>\n",
       "      <td>0.079440</td>\n",
       "      <td>...</td>\n",
       "      <td>23.32</td>\n",
       "      <td>33.82</td>\n",
       "      <td>151.60</td>\n",
       "      <td>1681.0</td>\n",
       "      <td>0.1585</td>\n",
       "      <td>0.73940</td>\n",
       "      <td>0.656600</td>\n",
       "      <td>0.189900</td>\n",
       "      <td>0.3313</td>\n",
       "      <td>0.13390</td>\n",
       "    </tr>\n",
       "    <tr>\n",
       "      <th>...</th>\n",
       "      <td>...</td>\n",
       "      <td>...</td>\n",
       "      <td>...</td>\n",
       "      <td>...</td>\n",
       "      <td>...</td>\n",
       "      <td>...</td>\n",
       "      <td>...</td>\n",
       "      <td>...</td>\n",
       "      <td>...</td>\n",
       "      <td>...</td>\n",
       "      <td>...</td>\n",
       "      <td>...</td>\n",
       "      <td>...</td>\n",
       "      <td>...</td>\n",
       "      <td>...</td>\n",
       "      <td>...</td>\n",
       "      <td>...</td>\n",
       "      <td>...</td>\n",
       "      <td>...</td>\n",
       "      <td>...</td>\n",
       "      <td>...</td>\n",
       "    </tr>\n",
       "    <tr>\n",
       "      <th>564</th>\n",
       "      <td>866203</td>\n",
       "      <td>M</td>\n",
       "      <td>19.00</td>\n",
       "      <td>18.91</td>\n",
       "      <td>123.40</td>\n",
       "      <td>1138.0</td>\n",
       "      <td>0.08217</td>\n",
       "      <td>0.08028</td>\n",
       "      <td>0.092710</td>\n",
       "      <td>0.056270</td>\n",
       "      <td>...</td>\n",
       "      <td>22.32</td>\n",
       "      <td>25.73</td>\n",
       "      <td>148.20</td>\n",
       "      <td>1538.0</td>\n",
       "      <td>0.1021</td>\n",
       "      <td>0.22640</td>\n",
       "      <td>0.320700</td>\n",
       "      <td>0.121800</td>\n",
       "      <td>0.2841</td>\n",
       "      <td>0.06541</td>\n",
       "    </tr>\n",
       "    <tr>\n",
       "      <th>565</th>\n",
       "      <td>8611555</td>\n",
       "      <td>M</td>\n",
       "      <td>25.22</td>\n",
       "      <td>24.91</td>\n",
       "      <td>171.50</td>\n",
       "      <td>1878.0</td>\n",
       "      <td>0.10630</td>\n",
       "      <td>0.26650</td>\n",
       "      <td>0.333900</td>\n",
       "      <td>0.184500</td>\n",
       "      <td>...</td>\n",
       "      <td>30.00</td>\n",
       "      <td>33.62</td>\n",
       "      <td>211.70</td>\n",
       "      <td>2562.0</td>\n",
       "      <td>0.1573</td>\n",
       "      <td>0.60760</td>\n",
       "      <td>0.647600</td>\n",
       "      <td>0.286700</td>\n",
       "      <td>0.2355</td>\n",
       "      <td>0.10510</td>\n",
       "    </tr>\n",
       "    <tr>\n",
       "      <th>566</th>\n",
       "      <td>897630</td>\n",
       "      <td>M</td>\n",
       "      <td>18.77</td>\n",
       "      <td>21.43</td>\n",
       "      <td>122.90</td>\n",
       "      <td>1092.0</td>\n",
       "      <td>0.09116</td>\n",
       "      <td>0.14020</td>\n",
       "      <td>0.106000</td>\n",
       "      <td>0.060900</td>\n",
       "      <td>...</td>\n",
       "      <td>24.54</td>\n",
       "      <td>34.37</td>\n",
       "      <td>161.10</td>\n",
       "      <td>1873.0</td>\n",
       "      <td>0.1498</td>\n",
       "      <td>0.48270</td>\n",
       "      <td>0.463400</td>\n",
       "      <td>0.204800</td>\n",
       "      <td>0.3679</td>\n",
       "      <td>0.09870</td>\n",
       "    </tr>\n",
       "    <tr>\n",
       "      <th>567</th>\n",
       "      <td>894089</td>\n",
       "      <td>B</td>\n",
       "      <td>12.49</td>\n",
       "      <td>16.85</td>\n",
       "      <td>79.19</td>\n",
       "      <td>481.6</td>\n",
       "      <td>0.08511</td>\n",
       "      <td>0.03834</td>\n",
       "      <td>0.004473</td>\n",
       "      <td>0.006423</td>\n",
       "      <td>...</td>\n",
       "      <td>13.34</td>\n",
       "      <td>19.71</td>\n",
       "      <td>84.48</td>\n",
       "      <td>544.2</td>\n",
       "      <td>0.1104</td>\n",
       "      <td>0.04953</td>\n",
       "      <td>0.019380</td>\n",
       "      <td>0.027840</td>\n",
       "      <td>0.1917</td>\n",
       "      <td>0.06174</td>\n",
       "    </tr>\n",
       "    <tr>\n",
       "      <th>568</th>\n",
       "      <td>857343</td>\n",
       "      <td>B</td>\n",
       "      <td>11.76</td>\n",
       "      <td>21.60</td>\n",
       "      <td>74.72</td>\n",
       "      <td>427.9</td>\n",
       "      <td>0.08637</td>\n",
       "      <td>0.04966</td>\n",
       "      <td>0.016570</td>\n",
       "      <td>0.011150</td>\n",
       "      <td>...</td>\n",
       "      <td>12.98</td>\n",
       "      <td>25.72</td>\n",
       "      <td>82.98</td>\n",
       "      <td>516.5</td>\n",
       "      <td>0.1085</td>\n",
       "      <td>0.08615</td>\n",
       "      <td>0.055230</td>\n",
       "      <td>0.037150</td>\n",
       "      <td>0.2433</td>\n",
       "      <td>0.06563</td>\n",
       "    </tr>\n",
       "  </tbody>\n",
       "</table>\n",
       "<p>569 rows × 32 columns</p>\n",
       "</div>"
      ],
      "text/plain": [
       "          0  1      2      3       4       5        6        7         8   \\\n",
       "0     857155  B  12.05  14.63   78.04   449.3  0.10310  0.09092  0.065920   \n",
       "1    8912521  B  12.58  18.40   79.83   489.0  0.08393  0.04216  0.001860   \n",
       "2     889719  M  17.19  22.07  111.60   928.3  0.09726  0.08995  0.090610   \n",
       "3     906564  B  14.69  13.98   98.22   656.1  0.10310  0.18360  0.145000   \n",
       "4     859717  M  17.20  24.52  114.20   929.4  0.10710  0.18300  0.169200   \n",
       "..       ... ..    ...    ...     ...     ...      ...      ...       ...   \n",
       "564   866203  M  19.00  18.91  123.40  1138.0  0.08217  0.08028  0.092710   \n",
       "565  8611555  M  25.22  24.91  171.50  1878.0  0.10630  0.26650  0.333900   \n",
       "566   897630  M  18.77  21.43  122.90  1092.0  0.09116  0.14020  0.106000   \n",
       "567   894089  B  12.49  16.85   79.19   481.6  0.08511  0.03834  0.004473   \n",
       "568   857343  B  11.76  21.60   74.72   427.9  0.08637  0.04966  0.016570   \n",
       "\n",
       "           9   ...     22     23      24      25      26       27        28  \\\n",
       "0    0.027490  ...  13.76  20.70   89.88   582.6  0.1494  0.21560  0.305000   \n",
       "1    0.002924  ...  13.50  23.08   85.56   564.1  0.1038  0.06624  0.005579   \n",
       "2    0.065270  ...  21.58  29.33  140.50  1436.0  0.1558  0.25670  0.388900   \n",
       "3    0.063000  ...  16.46  18.34  114.10   809.2  0.1312  0.36350  0.321900   \n",
       "4    0.079440  ...  23.32  33.82  151.60  1681.0  0.1585  0.73940  0.656600   \n",
       "..        ...  ...    ...    ...     ...     ...     ...      ...       ...   \n",
       "564  0.056270  ...  22.32  25.73  148.20  1538.0  0.1021  0.22640  0.320700   \n",
       "565  0.184500  ...  30.00  33.62  211.70  2562.0  0.1573  0.60760  0.647600   \n",
       "566  0.060900  ...  24.54  34.37  161.10  1873.0  0.1498  0.48270  0.463400   \n",
       "567  0.006423  ...  13.34  19.71   84.48   544.2  0.1104  0.04953  0.019380   \n",
       "568  0.011150  ...  12.98  25.72   82.98   516.5  0.1085  0.08615  0.055230   \n",
       "\n",
       "           29      30       31  \n",
       "0    0.065480  0.2747  0.08301  \n",
       "1    0.008772  0.2505  0.06431  \n",
       "2    0.198400  0.3216  0.07570  \n",
       "3    0.110800  0.2827  0.09208  \n",
       "4    0.189900  0.3313  0.13390  \n",
       "..        ...     ...      ...  \n",
       "564  0.121800  0.2841  0.06541  \n",
       "565  0.286700  0.2355  0.10510  \n",
       "566  0.204800  0.3679  0.09870  \n",
       "567  0.027840  0.1917  0.06174  \n",
       "568  0.037150  0.2433  0.06563  \n",
       "\n",
       "[569 rows x 32 columns]"
      ]
     },
     "execution_count": 490,
     "metadata": {},
     "output_type": "execute_result"
    }
   ],
   "source": [
    "df = pd.read_csv(\"data/wdbc.data\", sep=\",\", header=None)\n",
    "df = df.sample(frac=1).reset_index(drop=True)\n",
    "df\n"
   ]
  },
  {
   "cell_type": "code",
   "execution_count": 491,
   "metadata": {},
   "outputs": [
    {
     "data": {
      "text/plain": [
       "array(['B', 'M'], dtype=object)"
      ]
     },
     "execution_count": 491,
     "metadata": {},
     "output_type": "execute_result"
    }
   ],
   "source": [
    "df[1].unique()  # target\n"
   ]
  },
  {
   "cell_type": "code",
   "execution_count": 492,
   "metadata": {},
   "outputs": [
    {
     "name": "stdout",
     "output_type": "stream",
     "text": [
      "(426, 32)\n"
     ]
    }
   ],
   "source": [
    "df_len = df.shape[0]\n",
    "train_size = int(df_len*0.75)\n",
    "\n",
    "df_train = df.iloc[:train_size, :]\n",
    "df_test = df.iloc[train_size:, :]\n",
    "\n",
    "print(df_train.shape)\n"
   ]
  },
  {
   "cell_type": "markdown",
   "metadata": {},
   "source": [
    "From now, we will changing only df_train without df_test because we want to check how models accuracy will change.\n"
   ]
  },
  {
   "cell_type": "code",
   "execution_count": 493,
   "metadata": {},
   "outputs": [],
   "source": [
    "x_train = df_train.drop(1, axis=1)\n",
    "y_train = df_train[1]\n",
    "\n",
    "x_test = df_test.drop(1, axis=1)\n",
    "y_test = df_test[1]\n"
   ]
  },
  {
   "cell_type": "markdown",
   "metadata": {},
   "source": [
    "### 2.1. Test on Random Forest Classifier without missing values"
   ]
  },
  {
   "cell_type": "code",
   "execution_count": 494,
   "metadata": {},
   "outputs": [
    {
     "name": "stdout",
     "output_type": "stream",
     "text": [
      "RandomForestClassifier acc: 0.9790209790209791\n"
     ]
    }
   ],
   "source": [
    "model = RandomForestClassifier()\n",
    "model.fit(x_train, y_train)\n",
    "\n",
    "y_pred = model.predict(x_test)\n",
    "\n",
    "acc = accuracy_score(y_test, y_pred)\n",
    "print(\"RandomForestClassifier acc:\", acc)\n"
   ]
  },
  {
   "cell_type": "markdown",
   "metadata": {},
   "source": [
    "### 2.2. Test on Random Forest Classifier with missing values (1%)\n"
   ]
  },
  {
   "cell_type": "code",
   "execution_count": 495,
   "metadata": {},
   "outputs": [
    {
     "name": "stdout",
     "output_type": "stream",
     "text": [
      "(312, 32)\n"
     ]
    }
   ],
   "source": [
    "df_train_1p = df_train.copy()\n",
    "\n",
    "for col in df_train_1p.columns:\n",
    "    df_train_1p.loc[df_train_1p.sample(frac=0.01).index, col] = np.nan\n",
    "\n",
    "df_train_1p = df_train_1p.dropna()\n",
    "print(df_train_1p.shape)\n",
    "\n",
    "x_train_1p = df_train_1p.drop(1, axis=1)\n",
    "y_train_1p = df_train_1p[1]\n"
   ]
  },
  {
   "cell_type": "code",
   "execution_count": 496,
   "metadata": {},
   "outputs": [
    {
     "name": "stdout",
     "output_type": "stream",
     "text": [
      "RandomForestClassifier acc: (1%) 0.972027972027972\n"
     ]
    }
   ],
   "source": [
    "model = RandomForestClassifier()\n",
    "model.fit(x_train_1p, y_train_1p)\n",
    "\n",
    "y_pred = model.predict(x_test)\n",
    "\n",
    "acc_1p = accuracy_score(y_test, y_pred)\n",
    "print(\"RandomForestClassifier acc: (1%)\", acc_1p)\n"
   ]
  },
  {
   "cell_type": "markdown",
   "metadata": {},
   "source": [
    "### 2.3. Test on Random Forest Classifier with missing values (5%)\n"
   ]
  },
  {
   "cell_type": "code",
   "execution_count": 497,
   "metadata": {},
   "outputs": [
    {
     "name": "stdout",
     "output_type": "stream",
     "text": [
      "(87, 32)\n"
     ]
    }
   ],
   "source": [
    "df_train_5p = df_train.copy()\n",
    "\n",
    "for col in df_train_5p.columns:\n",
    "    df_train_5p.loc[df_train_5p.sample(frac=0.05).index, col] = np.nan\n",
    "\n",
    "df_train_5p = df_train_5p.dropna()\n",
    "print(df_train_5p.shape)\n",
    "\n",
    "x_train_5p = df_train_5p.drop(1, axis=1)\n",
    "y_train_5p = df_train_5p[1]\n"
   ]
  },
  {
   "cell_type": "code",
   "execution_count": 498,
   "metadata": {},
   "outputs": [
    {
     "name": "stdout",
     "output_type": "stream",
     "text": [
      "RandomForestClassifier acc: (5%) 0.965034965034965\n"
     ]
    }
   ],
   "source": [
    "model = RandomForestClassifier()\n",
    "model.fit(x_train_5p, y_train_5p)\n",
    "\n",
    "y_pred = model.predict(x_test)\n",
    "\n",
    "acc_5p = accuracy_score(y_test, y_pred)\n",
    "print(\"RandomForestClassifier acc: (5%)\", acc_5p)\n"
   ]
  },
  {
   "cell_type": "markdown",
   "metadata": {},
   "source": [
    "### 2.4. Test on Random Forest Classifier with missing values (10%)\n"
   ]
  },
  {
   "cell_type": "code",
   "execution_count": 499,
   "metadata": {},
   "outputs": [
    {
     "name": "stdout",
     "output_type": "stream",
     "text": [
      "(11, 32)\n"
     ]
    }
   ],
   "source": [
    "df_train_10p = df_train.copy()\n",
    "\n",
    "for col in df_train_10p.columns:\n",
    "    df_train_10p.loc[df_train_10p.sample(frac=0.10).index, col] = np.nan\n",
    "\n",
    "df_train_10p = df_train_10p.dropna()\n",
    "print(df_train_10p.shape)\n",
    "\n",
    "x_train_10p = df_train_10p.drop(1, axis=1)\n",
    "y_train_10p = df_train_10p[1]\n"
   ]
  },
  {
   "cell_type": "code",
   "execution_count": 500,
   "metadata": {},
   "outputs": [
    {
     "name": "stdout",
     "output_type": "stream",
     "text": [
      "RandomForestClassifier acc: (10%) 0.9440559440559441\n"
     ]
    }
   ],
   "source": [
    "model = RandomForestClassifier()\n",
    "model.fit(x_train_10p, y_train_10p)\n",
    "\n",
    "y_pred = model.predict(x_test)\n",
    "\n",
    "acc_10p = accuracy_score(y_test, y_pred)\n",
    "print(\"RandomForestClassifier acc: (10%)\", acc_10p)\n"
   ]
  },
  {
   "cell_type": "code",
   "execution_count": 501,
   "metadata": {},
   "outputs": [
    {
     "data": {
      "image/png": "[encoded data removed]",
      "text/plain": [
       "<Figure size 640x480 with 1 Axes>"
      ]
     },
     "metadata": {},
     "output_type": "display_data"
    }
   ],
   "source": [
    "acc_droped = [acc, acc_1p, acc_5p, acc_10p]\n",
    "x = [\"all values\", \"1% missing\", \"5% missing\", \"10% missing\"]\n",
    "\n",
    "plt.plot(x, acc_droped, marker=\"o\", label=\"drop missing values\")\n",
    "\n",
    "plt.title(\"Accuracy dependency on missing values\")\n",
    "plt.xlabel(\"Missing values [%]\")\n",
    "plt.ylabel(\"Accuracy\")\n",
    "plt.legend()\n",
    "\n",
    "plt.show()\n"
   ]
  },
  {
   "cell_type": "markdown",
   "metadata": {},
   "source": [
    "The graph tells us that the higher the percentage of missing data, the worse the model performs.\n",
    "\n",
    "This is due to the fact that we have fewer and fewer records to train the model."
   ]
  },
  {
   "cell_type": "markdown",
   "metadata": {},
   "source": [
    "### 2.5. Test on Random Forest Classifier with missing values (1%) - replace with mean value\n"
   ]
  },
  {
   "cell_type": "code",
   "execution_count": 502,
   "metadata": {},
   "outputs": [],
   "source": [
    "df_train_1p = df_train.copy()\n",
    "\n",
    "for col in df_train_1p.columns:\n",
    "    df_train_1p.loc[df_train_1p.sample(frac=0.01).index, col] = np.nan\n",
    "\n",
    "for column in df_train_1p.columns:\n",
    "    if pd.api.types.is_numeric_dtype(df_train_1p[column]):\n",
    "        df_train_1p[column].fillna(df_train_1p[column].mean(), inplace=True)\n",
    "    elif pd.api.types.is_string_dtype(df[column]):\n",
    "        df_train_1p[column].fillna(df_train_1p[column].mode()[0], inplace=True)\n"
   ]
  },
  {
   "cell_type": "code",
   "execution_count": 503,
   "metadata": {},
   "outputs": [
    {
     "name": "stdout",
     "output_type": "stream",
     "text": [
      "RandomForestClassifier acc: (1%) 0.9790209790209791\n"
     ]
    }
   ],
   "source": [
    "model = RandomForestClassifier()\n",
    "model.fit(x_train_1p, y_train_1p)\n",
    "\n",
    "y_pred = model.predict(x_test)\n",
    "\n",
    "acc_1p = accuracy_score(y_test, y_pred)\n",
    "print(\"RandomForestClassifier acc: (1%)\", acc_1p)\n"
   ]
  },
  {
   "cell_type": "markdown",
   "metadata": {},
   "source": [
    "### 2.6. Test on Random Forest Classifier with missing values (5%) - replace with mean value\n"
   ]
  },
  {
   "cell_type": "code",
   "execution_count": 504,
   "metadata": {},
   "outputs": [],
   "source": [
    "df_train_5p = df_train.copy()\n",
    "\n",
    "for col in df_train_5p.columns:\n",
    "    df_train_5p.loc[df_train_5p.sample(frac=0.01).index, col] = np.nan\n",
    "\n",
    "for column in df_train_5p.columns:\n",
    "    if pd.api.types.is_numeric_dtype(df_train_5p[column]):\n",
    "        df_train_5p[column].fillna(df_train_5p[column].mean(), inplace=True)\n",
    "    elif pd.api.types.is_string_dtype(df[column]):\n",
    "        df_train_5p[column].fillna(df_train_5p[column].mode()[0], inplace=True)\n"
   ]
  },
  {
   "cell_type": "code",
   "execution_count": 505,
   "metadata": {},
   "outputs": [
    {
     "name": "stdout",
     "output_type": "stream",
     "text": [
      "RandomForestClassifier acc: (5%) 0.965034965034965\n"
     ]
    }
   ],
   "source": [
    "model = RandomForestClassifier()\n",
    "model.fit(x_train_5p, y_train_5p)\n",
    "\n",
    "y_pred = model.predict(x_test)\n",
    "\n",
    "acc_5p = accuracy_score(y_test, y_pred)\n",
    "print(\"RandomForestClassifier acc: (5%)\", acc_5p)\n"
   ]
  },
  {
   "cell_type": "markdown",
   "metadata": {},
   "source": [
    "### 2.7. Test on Random Forest Classifier with missing values (10%) - replace with mean value\n"
   ]
  },
  {
   "cell_type": "code",
   "execution_count": 506,
   "metadata": {},
   "outputs": [],
   "source": [
    "df_train_10p = df_train.copy()\n",
    "\n",
    "for col in df_train_10p.columns:\n",
    "    df_train_10p.loc[df_train_10p.sample(frac=0.01).index, col] = np.nan\n",
    "\n",
    "for column in df_train_10p.columns:\n",
    "    if pd.api.types.is_numeric_dtype(df_train_10p[column]):\n",
    "        df_train_10p[column].fillna(df_train_10p[column].mean(), inplace=True)\n",
    "    elif pd.api.types.is_string_dtype(df[column]):\n",
    "        df_train_10p[column].fillna(df_train_10p[column].mode()[0], inplace=True)\n"
   ]
  },
  {
   "cell_type": "code",
   "execution_count": 507,
   "metadata": {},
   "outputs": [
    {
     "name": "stdout",
     "output_type": "stream",
     "text": [
      "RandomForestClassifier acc: (10%) 0.9300699300699301\n"
     ]
    }
   ],
   "source": [
    "model = RandomForestClassifier()\n",
    "model.fit(x_train_10p, y_train_10p)\n",
    "\n",
    "y_pred = model.predict(x_test)\n",
    "\n",
    "acc_10p = accuracy_score(y_test, y_pred)\n",
    "print(\"RandomForestClassifier acc: (10%)\", acc_10p)\n"
   ]
  },
  {
   "cell_type": "code",
   "execution_count": 508,
   "metadata": {},
   "outputs": [
    {
     "data": {
      "image/png": "[encoded data removed]",
      "text/plain": [
       "<Figure size 640x480 with 1 Axes>"
      ]
     },
     "metadata": {},
     "output_type": "display_data"
    }
   ],
   "source": [
    "acc_mean = [acc, acc_1p, acc_5p, acc_10p]\n",
    "x = [\"all values\", \"1% missing\", \"5% missing\", \"10% missing\"]\n",
    "\n",
    "plt.plot(x, acc_droped, marker=\"o\", label=\"drop missing values\")\n",
    "plt.plot(x, acc_mean, marker=\"o\", label=\"mean missing values\")\n",
    "\n",
    "plt.title(\"Accuracy dependency on missing values\")\n",
    "plt.xlabel(\"Missing values [%]\")\n",
    "plt.ylabel(\"Accuracy\")\n",
    "plt.legend()\n",
    "\n",
    "plt.show()\n"
   ]
  },
  {
   "cell_type": "markdown",
   "metadata": {},
   "source": [
    "As you can see in the chart, regardless of whether we replace the missing values with the average value from the column or delete given records, the effectiveness of the model slightly decreases, although it does not have a significant impact.\n",
    "\n",
    "Personally, I think that the data is quite simple and hence the impact of missing records on the high performance of the model is small.\n",
    "\n",
    "I also believe that averaging the result is better than deleting records and should impact the model better."
   ]
  }
 ],
 "metadata": {
  "kernelspec": {
   "display_name": "ssne",
   "language": "python",
   "name": "python3"
  },
  "language_info": {
   "codemirror_mode": {
    "name": "ipython",
    "version": 3
   },
   "file_extension": ".py",
   "mimetype": "text/x-python",
   "name": "python",
   "nbconvert_exporter": "python",
   "pygments_lexer": "ipython3",
   "version": "3.10.8"
  },
  "orig_nbformat": 4
 },
 "nbformat": 4,
 "nbformat_minor": 2
}
